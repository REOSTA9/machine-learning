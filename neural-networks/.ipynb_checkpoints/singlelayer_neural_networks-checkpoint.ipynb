{
 "cells": [
  {
   "cell_type": "markdown",
   "metadata": {},
   "source": [
    "# Neurônios Artificiais e Redes Neurais"
   ]
  },
  {
   "cell_type": "markdown",
   "metadata": {},
   "source": [
    "# Introdução"
   ]
  },
  {
   "cell_type": "markdown",
   "metadata": {},
   "source": [
    "O aprendizado de máquina é um dos campos mais quentes e excitantes da era moderna da tecnologia. Graças ao aprendizado de máquina, desfrutamos de robustos filtros de spam de e-mail, texto conveniente e reconhecimento de voz, mecanismos confiáveis de busca na web, jogadores de xadrez desafiadores e, esperançosamente em breve, carros autônomos seguros e eficientes.\n",
    "\n",
    "Sem dúvida alguma, o aprendizado de máquina se tornou um campo grande e popular, e às vezes pode ser difícil de visualizar uma árvore de decisão. Assim, vale a pena explorar algoritmos de aprendizado de máquina diferentes com mais detalhes, não apenas discutindo a teoria, mas também implementando-os passo a passo.\n",
    "\n",
    "Para resumir brevemente o que é o aprendizado de máquina: \"O aprendizado de máquina é o campo de estudo que dá aos computadores a capacidade de aprender sem serem programados explicitamente\" (Arthur Samuel, 1959). Aprendizado de máquina é sobre o desenvolvimento e uso de algoritmos que podem reconhecer padrões em dados para tomar decisões baseadas em estatísticas, teoria da probabilidade, análise combinatória e otimização.\n"
   ]
  },
  {
   "cell_type": "markdown",
   "metadata": {},
   "source": [
    "Vamos apresentar aqui o perceptron e adaline (ADAptive LINear NEuron), que se enquadram na categoria de redes neurais de camada única. O perceptron não é apenas o primeiro algoritmo de aprendizado descrito algorititicamente, mas também é muito intuitivo, fácil de implementar e um bom ponto de entrada para o estado moderno (re-descoberto) do Algoritmos de aprendizado de máquina de arte: Redes neurais artificiais (ou \"aprendizagem profunda\", se quiser). Como veremos mais adiante, a adaline é uma conseqüente melhoria do algoritmo do perceptron e oferece uma boa oportunidade para aprender sobre um algoritmo de otimização popular em aprendizado de máquina: descida em gradiente."
   ]
  },
  {
   "cell_type": "markdown",
   "metadata": {},
   "source": [
    "# Neurônios Artificiais e o Modelo McCulloch-Pitts"
   ]
  },
  {
   "cell_type": "markdown",
   "metadata": {},
   "source": [
    "A idéia inicial do perceptron remonta ao trabalho de Warren McCulloch e Walter Pitts em 1943, que fez uma analogia entre neurônios biológicos e portas lógicas simples com saídas binárias. Em termos mais intuitivos, os neurônios podem ser entendidos como as subunidades de uma rede neural em um cérebro biológico. Aqui, os sinais de magnitude variável chegam aos dendritos. Esses sinais de entrada são então acumulados no corpo da célula do neurônio, e se o sinal acumulado exceder um certo limite, um sinal de saída é gerado, o que será transmitido pelo axônio."
   ]
  },
  {
   "cell_type": "markdown",
   "metadata": {},
   "source": [
    "<img src='images/perceptron_neuron.png' alt=''>"
   ]
  },
  {
   "cell_type": "markdown",
   "metadata": {},
   "source": [
    "<br>\n",
    "<br>"
   ]
  },
  {
   "cell_type": "markdown",
   "metadata": {},
   "source": [
    "# Perceptron de Frank Rosenblatt"
   ]
  },
  {
   "cell_type": "markdown",
   "metadata": {},
   "source": [
    "Para continuar com a história, alguns anos depois de McCulloch e Walter Pitt, Frank Rosenblatt publicou o primeiro conceito da regra de aprendizado do Perceptron. A idéia principal era definir um algoritmo para aprender os valores dos pesos $ w $ que são então multiplicados com os recursos de entrada para decidir se um neurônio é acionado ou não. No contexto da classificação de padrões, tal algoritmo poderia ser útil para determinar se uma amostra pertence a uma classe ou a outra.\n",
    "\n"
   ]
  },
  {
   "cell_type": "markdown",
   "metadata": {},
   "source": [
    "<img src='images/perceptron_binary.png' alt=''>"
   ]
  },
  {
   "cell_type": "markdown",
   "metadata": {},
   "source": [
    "Para colocar o algoritmo do perceptron no contexto mais amplo da aprendizagem de máquina: O perceptron pertence à categoria de algoritmos de aprendizado supervisionado, classificadores lineares binários de camada única para serem mais específicos. Em resumo, a tarefa é prever a qual das duas categorias possíveis um certo ponto de dados pertence com base em um conjunto de variáveis de entrada."
   ]
  },
  {
   "cell_type": "markdown",
   "metadata": {},
   "source": [
    "## A função de Degrau Unitário"
   ]
  },
  {
   "cell_type": "markdown",
   "metadata": {},
   "source": [
    "Antes de nos aprofundarmos no algoritmo (s) para aprender os pesos do neurônio artificial, vamos dar uma breve olhada na notação básica. Nas próximas seções, rotularemos as classes *positive* e *negative* em nossa classificação de classificação binária como \"1\" e \"-1\", respectivamente. Em seguida, definimos uma função de ativação $ g (\\mathbf {z}) $ que usa uma combinação linear dos valores de entrada $ \\mathbf {x} $ e pesos $ \\mathbf {w} $ como entrada ($ \\mathbf {z } = w_1x_ {1} + \\dots + w_mx_ {m} $), e se $ g (\\mathbf {z}) $ for maior que um limite definido $ \\theta $, prevemos 1 e -1 caso contrário; neste caso, esta função de ativação $ g $ é uma forma alternativa de uma simples \"função de etapa de unidade\", que às vezes também é chamada de \"função de degrau de Heaviside\".\n",
    "\n",
    "* (Por favor, note que o *passo unitário* é classicamente definido como sendo igual a 0 se $ z <0 $ e 1 por $ z \\ge 0 $; no entanto, vamos nos referir à seguinte função linear baseada em peças com -1 se $ z < \\theta $ e 1 para $ z \\ge \\theta $ como *função de degrau unitário* para simplicidade). *"
   ]
  },
  {
   "cell_type": "markdown",
   "metadata": {},
   "source": [
    "$$\n",
    " g(\\mathbf{z}) =\\begin{cases}\n",
    "    1 & \\text{if $\\mathbf{z} \\ge \\theta$}\\\\\n",
    "    -1 & \\text{otherwise}.\n",
    "  \\end{cases}\n",
    "$$\n"
   ]
  },
  {
   "cell_type": "markdown",
   "metadata": {},
   "source": [
    "where\n",
    "\n",
    "$$\\mathbf{z} =  w_1x_{1} + \\dots + w_mx_{m} = \\sum_{j=1}^{m} x_{j}w_{j} \\\\ = \\mathbf{w}^T\\mathbf{x}$$"
   ]
  },
  {
   "cell_type": "markdown",
   "metadata": {},
   "source": [
    "$\\mathbf{w}$ é o vetor de características, e $\\mathbf{x}$ é uma amostra $m$-dimensional do conjunto de treinamento:\n",
    "\n",
    "$$ \n",
    "\\mathbf{w} = \\begin{bmatrix}\n",
    "    w_{1}  \\\\\n",
    "    \\vdots \\\\\n",
    "    w_{m}\n",
    "\\end{bmatrix}\n",
    "\\quad  \\mathbf{x} = \\begin{bmatrix}\n",
    "    x_{1}  \\\\\n",
    "    \\vdots \\\\\n",
    "    x_{m}\n",
    "\\end{bmatrix}$$"
   ]
  },
  {
   "cell_type": "markdown",
   "metadata": {},
   "source": [
    "<img src='images/perceptron_unit_step.png' alt=''>"
   ]
  },
  {
   "cell_type": "markdown",
   "metadata": {},
   "source": [
    "Para simplificar a notação, fazemos $\\theta$ para o lado esquerdo e definimos $w_0 = -\\theta  \\text{ e } x_0=1$ \n",
    "\n",
    "então\n",
    "\n",
    "$$\\begin{equation}\n",
    " g({\\mathbf{z}}) =\\begin{cases}\n",
    "    1 & \\text{if $\\mathbf{z} \\ge 0$}\\\\\n",
    "    -1 & \\text{otherwise}.\n",
    "  \\end{cases}\n",
    "\\end{equation}$$\n",
    "\n",
    "e\n",
    "\n",
    "\n",
    "$$\\mathbf{z} = w_0x_{0} + w_1x_{1} + \\dots + w_mx_{m} = \\sum_{j=0}^{m} x_{j}w_{j} \\\\ = \\mathbf{w}^T\\mathbf{x}.$$\n",
    "\n",
    "\n"
   ]
  },
  {
   "cell_type": "markdown",
   "metadata": {},
   "source": [
    "<br>\n",
    "<br>"
   ]
  },
  {
   "cell_type": "markdown",
   "metadata": {},
   "source": [
    "## A regra de aprendizagem do Perceptron"
   ]
  },
  {
   "cell_type": "markdown",
   "metadata": {},
   "source": [
    "Pode soar como um caso extremo de uma abordagem reducionista, mas a ideia por trás desse perceptron \"limiarizado\" era imitar como um único neurônio no cérebro funciona: ele \"dispara\" ou não. Para resumir os pontos principais da seção anterior: Um perceptron recebe múltiplos sinais de entrada, e se a soma dos sinais de entrada exceder um certo limite, ele retorna um sinal ou permanece \"silencioso\", caso contrário. O que fez disso um algoritmo de \"aprendizado de máquina\" foi a idéia de Frank Rosenblatt da regra de aprendizado do perceptron: O algoritmo do perceptron é sobre o aprendizado dos pesos para os sinais de entrada para traçar um limite de decisão linear que nos permite discriminar entre as duas classes linearmente separáveis. 1 e -1.\n"
   ]
  },
  {
   "cell_type": "markdown",
   "metadata": {},
   "source": [
    "<img src='images/perceptron_schematic.png' alt=''>"
   ]
  },
  {
   "cell_type": "markdown",
   "metadata": {},
   "source": [
    "A regra inicial do perceptron de Rosenblatt é bastante simples e pode ser resumida pelos seguintes passos:\n",
    "\n",
    "1. Inicialize os pesos para 0 ou pequenos números aleatórios.\n",
    "2. Para cada amostra de treinamento $\\mathbf{x^{(i)}}$:\n",
    "    2. Calcule a *saída*.\n",
    "    2. Atualize os pesos."
   ]
  },
  {
   "cell_type": "markdown",
   "metadata": {},
   "source": [
    "O valor de saída é o rótulo de classe previsto pela função de etapa de unidade que definimos anteriormente (saída $ = g (\\mathbf {z}) $) e a atualização de peso pode ser escrita mais formalmente como $ w_j: = w_j + \\Delta w_j $.\n",
    "\n",
    "O valor para atualizar os pesos em cada incremento é calculado pela regra de aprendizado\n",
    "\n",
    "$ \\Delta w_j = \\eta \\; (\\text {target} ^ {(i)} - \\text {output} ^ {(i)}) \\; x ^ {(i)} _ {j} $\n",
    "\n",
    "onde $ \\eta $ é a taxa de aprendizado (uma constante entre 0.0 e 1.0), \"target\" é o verdadeiro rótulo de classe e \"output\" é o rótulo de classe previsto."
   ]
  },
  {
   "cell_type": "markdown",
   "metadata": {},
   "source": [
    "É importante observar que todos os pesos no vetor de pesos estão sendo atualizados simultaneamente. Concretamente, para um conjunto de dados bidimensional, escreveríamos a atualização como:\n",
    "\n",
    "$\\Delta w_0 = \\eta(\\text{target}^{(i)} - \\text{output}^{(i)})$  \n",
    "$\\Delta w_1 = \\eta(\\text{target}^{(i)} - \\text{output}^{(i)})\\;x^{(i)}_{1}$  \n",
    "$\\Delta w_2 = \\eta(\\text{target}^{(i)} - \\text{output}^{(i)})\\;x^{(i)}_{2}$  "
   ]
  },
  {
   "cell_type": "markdown",
   "metadata": {},
   "source": [
    "Antes de implementarmos a regra do perceptron em Python, vamos fazer um simples experimento mental para ilustrar como essa regra de aprendizado é realmente simples. Nos dois cenários em que o perceptron prevê o rótulo de classe corretamente, os pesos permanecem inalterados:\n",
    "\n",
    "- $\\Delta w_j = \\eta(-1^{(i)} - -1^{(i)})\\;x^{(i)}_{j} = 0$ \n",
    "- $\\Delta w_j = \\eta(1^{(i)} - 1^{(i)})\\;x^{(i)}_{j} = 0$ \n",
    "\n",
    "No entanto, no caso de uma previsão incorreta, os pesos estão sendo \"empurrados\" na direção da classe alvo positiva ou negativa, respectivamente:\n",
    "\n",
    "- $\\Delta w_j = \\eta(1^{(i)} - -1^{(i)})\\;x^{(i)}_{j} = \\eta(2)\\;x^{(i)}_{j}$ \n",
    "- $\\Delta w_j = \\eta(-1^{(i)} - 1^{(i)})\\;x^{(i)}_{j} = \\eta(-2)\\;x^{(i)}_{j}$ \n",
    "\n"
   ]
  },
  {
   "cell_type": "markdown",
   "metadata": {},
   "source": [
    "É importante notar que a convergência do perceptron só é garantida se as duas classes forem linearmente separáveis. Se as duas classes não puderem ser separadas por um limite de decisão linear, podemos definir um número máximo de passes sobre o conjunto de dados de treinamento (\"epochs\") e / ou um limite para o número de classificações erradas toleradas."
   ]
  },
  {
   "cell_type": "markdown",
   "metadata": {},
   "source": [
    "## Implementando a regra Perceptron em Python"
   ]
  },
  {
   "cell_type": "markdown",
   "metadata": {},
   "source": [
    "Nesta seção, implementaremos a regra de aprendizado do perceptron simples em Python para classificar as flores no conjunto de dados da Iris."
   ]
  },
  {
   "cell_type": "code",
   "execution_count": 1,
   "metadata": {
    "collapsed": true
   },
   "outputs": [],
   "source": [
    "import numpy as np\n",
    "\n",
    "class Perceptron(object):\n",
    "    \n",
    "    def __init__(self, eta=0.01, epochs=50):\n",
    "        self.eta = eta\n",
    "        self.epochs = epochs\n",
    "\n",
    "    def train(self, X, y):\n",
    "\n",
    "        self.w_ = np.zeros(1 + X.shape[1])\n",
    "        self.errors_ = []\n",
    "\n",
    "        for _ in range(self.epochs):\n",
    "            errors = 0\n",
    "            for xi, target in zip(X, y):\n",
    "                update = self.eta * (target - self.predict(xi))\n",
    "                self.w_[1:] +=  update * xi\n",
    "                self.w_[0] +=  update\n",
    "                errors += int(update != 0.0)\n",
    "            self.errors_.append(errors)\n",
    "        return self\n",
    "\n",
    "    def net_input(self, X):\n",
    "        return np.dot(X, self.w_[1:]) + self.w_[0]\n",
    "\n",
    "    def predict(self, X):\n",
    "        return np.where(self.net_input(X) >= 0.0, 1, -1)"
   ]
  },
  {
   "cell_type": "markdown",
   "metadata": {},
   "source": [
    "Para o exemplo a seguir, carregaremos o conjunto de dados Iris do [UCI Machine Learning Repository] (http://archive.ics.uci.edu/ml/) e focaremos apenas nas duas espécies de flores *Setosa* e *Versicolor* Além disso, usaremos apenas os duas variáveis *comprimento da sépala* e *comprimento da pétala* para fins de visualização."
   ]
  },
  {
   "cell_type": "code",
   "execution_count": 2,
   "metadata": {
    "collapsed": false
   },
   "outputs": [],
   "source": [
    "import pandas as pd\n",
    "df = pd.read_csv('https://archive.ics.uci.edu/ml/machine-learning-databases/iris/iris.data', header=None)\n",
    "\n",
    "# setosa and versicolor\n",
    "y = df.iloc[0:100, 4].values\n",
    "y = np.where(y == 'Iris-setosa', -1, 1)\n",
    "\n",
    "# sepal length and petal length\n",
    "X = df.iloc[0:100, [0,2]].values"
   ]
  },
  {
   "cell_type": "code",
   "execution_count": 4,
   "metadata": {
    "collapsed": false
   },
   "outputs": [
    {
     "name": "stdout",
     "output_type": "stream",
     "text": [
      "Weights: [-0.4  -0.68  1.82]\n"
     ]
    },
    {
     "data": {
      "image/png": "[encoded data removed]",
      "text/plain": [
       "<Figure size 432x288 with 1 Axes>"
      ]
     },
     "metadata": {
      "needs_background": "light"
     },
     "output_type": "display_data"
    },
    {
     "data": {
      "image/png": "[encoded data removed]",
      "text/plain": [
       "<Figure size 432x288 with 1 Axes>"
      ]
     },
     "metadata": {
      "needs_background": "light"
     },
     "output_type": "display_data"
    }
   ],
   "source": [
    "%matplotlib inline\n",
    "import matplotlib.pyplot as plt\n",
    "from mlxtend.plotting import plot_decision_regions\n",
    "\n",
    "ppn = Perceptron(epochs=10, eta=0.1)\n",
    "\n",
    "ppn.train(X, y)\n",
    "print('Weights: %s' % ppn.w_)\n",
    "plot_decision_regions(X, y, clf=ppn)\n",
    "plt.title('Perceptron')\n",
    "plt.xlabel('sepal length [cm]')\n",
    "plt.ylabel('petal length [cm]')\n",
    "plt.show()\n",
    "\n",
    "plt.plot(range(1, len(ppn.errors_)+1), ppn.errors_, marker='o')\n",
    "plt.xlabel('Iterations')\n",
    "plt.ylabel('Misclassifications')\n",
    "plt.show()\n"
   ]
  },
  {
   "cell_type": "markdown",
   "metadata": {},
   "source": [
    "Como podemos ver, o perceptron converge após a 6ª iteração e separa as duas classes de flores perfeitamente."
   ]
  },
  {
   "cell_type": "markdown",
   "metadata": {},
   "source": [
    "<br>\n",
    "<br>"
   ]
  },
  {
   "cell_type": "markdown",
   "metadata": {},
   "source": [
    "## Problemas com Perceptrons"
   ]
  },
  {
   "cell_type": "markdown",
   "metadata": {},
   "source": [
    "Embora o perceptron classificasse as duas classes de flores de Iris perfeitamente, a convergência é um dos maiores problemas do perceptron. Frank Rosenblatt comprovou matematicamente que a regra de aprendizagem do perceptron converge se as duas classes podem ser separadas por hiperplano linear, mas surgem problemas se as classes não puderem ser separadas perfeitamente por um classificador linear. Para demonstrar esse problema, usaremos duas classes e recursos diferentes do conjunto de dados da Iris."
   ]
  },
  {
   "cell_type": "code",
   "execution_count": 5,
   "metadata": {
    "collapsed": false
   },
   "outputs": [
    {
     "data": {
      "image/png": "[encoded data removed]",
      "text/plain": [
       "<Figure size 432x288 with 1 Axes>"
      ]
     },
     "metadata": {
      "needs_background": "light"
     },
     "output_type": "display_data"
    },
    {
     "data": {
      "image/png": "[encoded data removed]",
      "text/plain": [
       "<Figure size 432x288 with 1 Axes>"
      ]
     },
     "metadata": {
      "needs_background": "light"
     },
     "output_type": "display_data"
    }
   ],
   "source": [
    "# versicolor and virginica\n",
    "y2 = df.iloc[50:150, 4].values\n",
    "y2 = np.where(y2 == 'Iris-virginica', -1, 1)\n",
    "\n",
    "# sepal width and petal width\n",
    "X2 = df.iloc[50:150, [1,3]].values\n",
    "\n",
    "ppn = Perceptron(epochs=25, eta=0.01)\n",
    "ppn.train(X2, y2)\n",
    "\n",
    "plot_decision_regions(X2, y2, clf=ppn)\n",
    "plt.show()\n",
    "\n",
    "plt.plot(range(1, len(ppn.errors_)+1), ppn.errors_, marker='o')\n",
    "plt.xlabel('Iterations')\n",
    "plt.ylabel('Misclassifications')\n",
    "plt.show()"
   ]
  },
  {
   "cell_type": "code",
   "execution_count": 6,
   "metadata": {
    "collapsed": false
   },
   "outputs": [
    {
     "name": "stdout",
     "output_type": "stream",
     "text": [
      "Total number of misclassifications: 43 of 100\n"
     ]
    }
   ],
   "source": [
    "print('Total number of misclassifications: %d of 100' % (y2 != ppn.predict(X2)).sum())"
   ]
  },
  {
   "cell_type": "markdown",
   "metadata": {},
   "source": [
    "Mesmo com uma taxa de treinamento mais baixa, o perceptron não conseguiu encontrar um bom limite de decisão, já que uma ou mais amostras sempre serão classificadas incorretamente em cada época, de modo que a regra de aprendizado nunca pare de atualizar os pesos.\n",
    "\n",
    "Pode parecer paradoxal, nesse contexto, que outra falha do algoritmo do perceptron seja que ele pare de atualizar os pesos assim que todas as amostras forem classificadas corretamente. Nossa intuição nos diz que um limite de decisão com uma grande margem entre as classes (como indicado pela linha tracejada na figura abaixo) provavelmente tem um erro de generalização melhor do que o limite de decisão do perceptron. Mas os classificadores de margens grandes, como o Support Vector Machines, são eficientes para esse situação."
   ]
  },
  {
   "cell_type": "markdown",
   "metadata": {},
   "source": [
    "<img src='images/perceptron_margin.png' />"
   ]
  },
  {
   "cell_type": "markdown",
   "metadata": {},
   "source": [
    "<br>\n",
    "<br>"
   ]
  },
  {
   "cell_type": "markdown",
   "metadata": {},
   "source": [
    "# Neurônios Lineares Adaptativos e a Regra Delta"
   ]
  },
  {
   "cell_type": "markdown",
   "metadata": {},
   "source": [
    "O perceptron certamente foi muito popular na época de sua descoberta, no entanto, levou apenas alguns anos até que Bernard Widrow e seu doutorando Tedd Hoff propusessem a idéia do Neurônio Linear Adaptativo (adaline).\n",
    "\n",
    "Em contraste com a regra perceptron, a regra delta da regra adaline (também conhecida como regra Widrow-Hoff ou Adaline) atualiza os pesos com base em uma função de ativação linear em vez de uma função de etapa unitária, aqui esta função de ativação linear $ g (\\mathbf {z}) $ é apenas a função de identidade da entrada de rede $ g (\\mathbf {w} ^ T \\mathbf {x}) = \\mathbf {w} ^ T \\mathbf {x} $. Na próxima seção, veremos porque essa ativação linear é uma melhoria em relação à atualização do perceptron e de onde vem o nome \"regra delta\"."
   ]
  },
  {
   "cell_type": "markdown",
   "metadata": {},
   "source": [
    "<img src='images/perceptron_vs_adaline.png' alt=''>"
   ]
  },
  {
   "cell_type": "markdown",
   "metadata": {},
   "source": [
    "<br>\n",
    "<br>"
   ]
  },
  {
   "cell_type": "markdown",
   "metadata": {},
   "source": [
    "## Gradiente Descendente"
   ]
  },
  {
   "cell_type": "markdown",
   "metadata": {},
   "source": [
    "Sendo uma função contínua, uma das maiores vantagens da função de ativação linear sobre a função de etapa unitária é que ela é diferenciável. Essa propriedade nos permite definir uma função de custo $ J (\\mathbf {w}) $ que podemos minimizar para atualizar nossos pesos. No caso da função de ativação linear, podemos definir a função de custo $ J (\\mathbf {w}) $ como a *soma dos erros quadráticos* (SSE), que é semelhante à função custo que é minimizada no mínimo ordinário quadrados (OLS) regressão linear.\n",
    "\n",
    "$$J(\\mathbf{w})  = \\frac{1}{2} \\sum_{i} (\\text{target}^{(i)} - \\text{output}^{(i)})^2 \\quad \\quad \\text{output}^{(i)} \\in \\mathbb{R}$$\n",
    "\n",
    "(A fração $ \\frac {1} {2} $ é apenas usada por conveniência para derivar o gradiente como veremos nos próximos parágrafos.)"
   ]
  },
  {
   "cell_type": "markdown",
   "metadata": {},
   "source": [
    "A fim de minimizar a função de custo de SSE, usaremos gradiente descendente, um algoritmo de otimização simples, porém útil, que é frequentemente usado em aprendizado de máquina para encontrar o mínimo local de sistemas lineares."
   ]
  },
  {
   "cell_type": "markdown",
   "metadata": {},
   "source": [
    "Antes de chegarmos à parte divertida (cálculo), vamos considerar uma função de custo convexa para um único peso. Como ilustrado na figura abaixo, podemos descrever o princípio por trás da descida gradiente como \"descer uma colina\" até que um mínimo local ou global seja atingido. Em cada degrau, damos um passo na direção oposta do gradiente, e o tamanho do degrau é determinado pelo valor da taxa de aprendizado, bem como pela inclinação do gradiente."
   ]
  },
  {
   "cell_type": "markdown",
   "metadata": {},
   "source": [
    "<img src='images/perceptron_gradient_descent_1.png' alt=''>"
   ]
  },
  {
   "cell_type": "markdown",
   "metadata": {},
   "source": [
    "Agora, como prometido, na parte divertida - derivando a regra de aprendizagem Adaline.\n",
    "Como mencionado acima, cada atualização é atualizada tomando um passo na direção oposta do gradiente $ \\Delta \\mathbf {w} = - \\eta \\nabla J (\\mathbf {w}) $, portanto, temos que calcular o derivada parcial da função de custo para cada peso no vetor de ponderação: $ \\Delta w_j = - \\eta \\frac {\\partial J} {\\partial w_j} $.\n"
   ]
  },
  {
   "cell_type": "markdown",
   "metadata": {},
   "source": [
    "A derivada parcial da função de custo de SSE para um peso específico pode ser calculada da seguinte forma:\n",
    "\n",
    "$$\\begin{equation}\n",
    " \\frac{\\partial J}{\\partial w_j} = \\frac{\\partial }{\\partial w_j} \\frac{1}{2} \\sum_i  (t^{(i)} - o^{(i)})^2 \\\\\n",
    "= \\frac{1}{2} \\sum_i \\frac{\\partial}{\\partial w_j} (t^{(i)} - o^{(i)})^2 \\\\\n",
    "= \\frac{1}{2} \\sum_i 2 (t^{(i)} - o^{(i)}) \\frac{\\partial}{\\partial w_j} (t^{(i)} - o^{(i)}) \\\\\n",
    "=  \\sum_i (t^{(i)} - o^{(i)}) \\frac{\\partial}{\\partial w_j} \\bigg(t^{(i)} - \\sum_j w_j x^{(i)}_{j}\\bigg) \\\\\n",
    "= \\sum_i  (t^{(i)} - o^{(i)})(-x^{(i)}_{j}) \n",
    "\\end{equation}$$\n",
    "\n",
    "(t = target, o = output)"
   ]
  },
  {
   "cell_type": "markdown",
   "metadata": {},
   "source": [
    "E se nós conectarmos os resultados de volta à regra de aprendizado,\n",
    "\n",
    "$\\Delta w_j = - \\eta \\frac{\\partial J}{\\partial w_j} = - \\eta \\sum_i  (t^{(i)} - o^{(i)})(- x^{(i)}_{j}) = \\eta \\sum_i (t^{(i)} - o^{(i)})x^{(i)}_{j}$,\n",
    "\n",
    "Eventualmente, podemos aplicar uma atualização de peso simultânea semelhante à regra do perceptron:\n",
    "\n",
    "$\\mathbf{w} := \\mathbf{w} + \\Delta \\mathbf{w}$.\n",
    "\n",
    "** Embora a regra de aprendizado acima pareça idêntica à regra do perceptron, devemos observar as duas principais diferenças: **\n",
    "\n",
    "1. Aqui, a saída \"o\" é um número real e não um rótulo de classe, como na regra de aprendizado do perceptron.\n",
    "2. A atualização de peso é calculada com base em todas as amostras no conjunto de treinamento (em vez de atualizar os pesos incrementalmente após cada amostra), e é por isso que essa abordagem também é chamada de gradiente descendente \"em lote\""
   ]
  },
  {
   "cell_type": "markdown",
   "metadata": {},
   "source": [
    "<br>\n",
    "<br>"
   ]
  },
  {
   "cell_type": "markdown",
   "metadata": {},
   "source": [
    "## O Gradiente Descendente em ação"
   ]
  },
  {
   "cell_type": "markdown",
   "metadata": {},
   "source": [
    "\n",
    "Agora, é hora de implementar a regra de descida de gradiente em Python."
   ]
  },
  {
   "cell_type": "code",
   "execution_count": 7,
   "metadata": {
    "collapsed": false
   },
   "outputs": [],
   "source": [
    "import numpy as np\n",
    "\n",
    "class AdalineGD(object):\n",
    "    \n",
    "    def __init__(self, eta=0.01, epochs=50): \n",
    "        self.eta = eta\n",
    "        self.epochs = epochs\n",
    "\n",
    "    def train(self, X, y):\n",
    "\n",
    "        self.w_ = np.zeros(1 + X.shape[1])\n",
    "        self.cost_ = []\n",
    "\n",
    "        for i in range(self.epochs):\n",
    "            output = self.net_input(X)\n",
    "            errors = (y - output)\n",
    "            self.w_[1:] += self.eta * X.T.dot(errors)\n",
    "            self.w_[0] += self.eta * errors.sum()\n",
    "            cost = (errors**2).sum() / 2.0\n",
    "            self.cost_.append(cost)\n",
    "        return self\n",
    "\n",
    "    def net_input(self, X):\n",
    "        return np.dot(X, self.w_[1:]) + self.w_[0]\n",
    "\n",
    "    def activation(self, X):\n",
    "        return self.net_input(X)\n",
    "\n",
    "    def predict(self, X):\n",
    "        return np.where(self.activation(X) >= 0.0, 1, -1)"
   ]
  },
  {
   "cell_type": "markdown",
   "metadata": {},
   "source": [
    "Na prática, muitas vezes requer alguma experimentação para encontrar uma boa taxa de aprendizado para a convergência ótima, assim, começaremos por traçar o custo para duas taxas diferentes de aprendizado.\n"
   ]
  },
  {
   "cell_type": "code",
   "execution_count": 8,
   "metadata": {
    "collapsed": false
   },
   "outputs": [
    {
     "data": {
      "image/png": "[encoded data removed]",
      "text/plain": [
       "<Figure size 432x288 with 1 Axes>"
      ]
     },
     "metadata": {
      "needs_background": "light"
     },
     "output_type": "display_data"
    },
    {
     "data": {
      "image/png": "[encoded data removed]",
      "text/plain": [
       "<Figure size 432x288 with 1 Axes>"
      ]
     },
     "metadata": {
      "needs_background": "light"
     },
     "output_type": "display_data"
    }
   ],
   "source": [
    "ada = AdalineGD(epochs=10, eta=0.01).train(X, y)\n",
    "plt.plot(range(1, len(ada.cost_)+1), np.log10(ada.cost_), marker='o')\n",
    "plt.xlabel('Iterations')\n",
    "plt.ylabel('log(Sum-squared-error)')\n",
    "plt.title('Adaline - Learning rate 0.01')\n",
    "plt.show()\n",
    "\n",
    "ada = AdalineGD(epochs=10, eta=0.0001).train(X, y)\n",
    "plt.plot(range(1, len(ada.cost_)+1), ada.cost_, marker='o')\n",
    "plt.xlabel('Iterations')\n",
    "plt.ylabel('Sum-squared-error')\n",
    "plt.title('Adaline - Learning rate 0.0001')\n",
    "plt.show()"
   ]
  },
  {
   "cell_type": "markdown",
   "metadata": {},
   "source": [
    "Os dois gráficos acima enfatizam muito bem a importância de plotar as curvas de aprendizado, ilustrando dois problemas mais comuns com o gradiente descendente:\n",
    "\n",
    "1. Se a taxa de aprendizado for muito grande, a descida em gradiente irá ultrapassar os mínimos e divergir.\n",
    "2. Se a taxa de aprendizado for muito pequena, o algoritmo precisará de muitas épocas para convergir e pode ficar preso com facilidade nos mínimos locais."
   ]
  },
  {
   "cell_type": "markdown",
   "metadata": {},
   "source": [
    "<img src='images/perceptron_learning_rate.png' alt=''>"
   ]
  },
  {
   "cell_type": "markdown",
   "metadata": {},
   "source": [
    "A descida de gradiente também é um bom exemplo do motivo pelo qual o dimensionamento de recurso é importante para muitos algoritmos de aprendizado de máquina.\n",
    "Não é apenas mais fácil encontrar uma taxa de aprendizado apropriada se os recursos estiverem na mesma escala, mas também leva a uma convergência mais rápida e pode evitar que os pesos se tornem muito pequenos (estabilidade numérica).\n",
    "\n",
    "Uma maneira comum de dimensionamento de recursos é a normalização\n",
    "\n",
    "$$\\mathbf{x}_{j, std} = \\frac{\\mathbf{x}_j - \\mathbf{\\mu}_j}{\\mathbf{\\sigma}_j}$$\n",
    "\n",
    "onde $ \\mathbf {\\mu} _j $ é a média da amostra da variável $ \\mathbf {x} _ {j} $ e $ \\mathbf {\\sigma} _j $ o desvio padrão, respectivamente. Após a normalização, as variáveis terão variação unitária e serão centralizados em torno da média zero."
   ]
  },
  {
   "cell_type": "code",
   "execution_count": 9,
   "metadata": {
    "collapsed": true
   },
   "outputs": [],
   "source": [
    "# standardize features\n",
    "X_std = np.copy(X)\n",
    "X_std[:,0] = (X[:,0] - X[:,0].mean()) / X[:,0].std()\n",
    "X_std[:,1] = (X[:,1] - X[:,1].mean()) / X[:,1].std()"
   ]
  },
  {
   "cell_type": "code",
   "execution_count": 11,
   "metadata": {
    "collapsed": false
   },
   "outputs": [
    {
     "data": {
      "image/png": "[encoded data removed]",
      "text/plain": [
       "<Figure size 432x288 with 1 Axes>"
      ]
     },
     "metadata": {
      "needs_background": "light"
     },
     "output_type": "display_data"
    },
    {
     "data": {
      "image/png": "[encoded data removed]",
      "text/plain": [
       "<Figure size 432x288 with 1 Axes>"
      ]
     },
     "metadata": {
      "needs_background": "light"
     },
     "output_type": "display_data"
    }
   ],
   "source": [
    "%matplotlib inline\n",
    "import matplotlib.pyplot as plt\n",
    "\n",
    "ada = AdalineGD(epochs=15, eta=0.01)\n",
    "\n",
    "ada.train(X_std, y)\n",
    "plot_decision_regions(X_std, y, clf=ada)\n",
    "plt.title('Adaline - Gradient Descent')\n",
    "plt.xlabel('sepal length [standardized]')\n",
    "plt.ylabel('petal length [standardized]')\n",
    "plt.show()\n",
    "\n",
    "plt.plot(range(1, len( ada.cost_)+1), ada.cost_, marker='o')\n",
    "plt.xlabel('Iterations')\n",
    "plt.ylabel('Sum-squared-error')\n",
    "plt.show()"
   ]
  },
  {
   "cell_type": "markdown",
   "metadata": {},
   "source": [
    "<img src='images/perceptron_animation.gif' />"
   ]
  },
  {
   "cell_type": "markdown",
   "metadata": {},
   "source": [
    "<br>\n",
    "<br>"
   ]
  },
  {
   "cell_type": "markdown",
   "metadata": {},
   "source": [
    "## Aprendizagem On-line via Gradiente Descendente Estocástico"
   ]
  },
  {
   "cell_type": "markdown",
   "metadata": {},
   "source": [
    "A seção anterior era sobre aprendizado de descida de gradiente \"em lote\". As atualizações \"em lote\" referem-se ao fato de que a função custo é minimizada com base no conjunto completo de dados de treinamento. Se pensarmos novamente na regra do perceptron, lembramos que ela executou a atualização de peso incrementalmente após cada amostra de treinamento individual. Essa abordagem também é chamada de aprendizado \"on-line\" e, na verdade, também é assim que Adaline foi descrita pela primeira vez por Bernard Widrow et al.\n",
    "\n",
    "O processo de atualizar incrementalmente os pesos também é chamado de gradiente descendente \"estocástico\", uma vez que se aproxima da minimização da função custo. Embora a abordagem de descida de gradiente estocástica possa parecer inferior à descida de gradiente devido à sua natureza \"estocástica\" e à direção \"aproximada\" (gradiente), ela pode ter certas vantagens na prática. Frequentemente, a descida gradiente estocástica converge muito mais rapidamente que a descida de gradiente, uma vez que as atualizações são aplicadas imediatamente após cada amostra de treinamento; A descida gradiente estocástica é computacionalmente mais eficiente, especialmente para conjuntos de dados muito grandes. Outra vantagem do aprendizado on-line é que o classificador pode ser atualizado imediatamente à medida que novos dados de treinamento chegam, por exemplo, em aplicativos da Web, e dados antigos de treinamento podem ser descartados se o armazenamento for um problema. Em sistemas de aprendizado de máquina em larga escala, também é prática comum usar os chamados \"mini-lotes\", um compromisso com uma convergência mais suave do que a descida de gradiente estocástica."
   ]
  },
  {
   "cell_type": "markdown",
   "metadata": {},
   "source": [
    "No interesse da completude, vamos também implementar o gradiente estocástico descendente Adaline e confirmar que ele converge no conjunto de dados de íris linearmente separável.\n"
   ]
  },
  {
   "cell_type": "code",
   "execution_count": 12,
   "metadata": {
    "collapsed": true
   },
   "outputs": [],
   "source": [
    "import numpy as np\n",
    "\n",
    "class AdalineSGD(object):\n",
    "    \n",
    "    def __init__(self, eta=0.01, epochs=50):\n",
    "        self.eta = eta\n",
    "        self.epochs = epochs\n",
    "\n",
    "    def train(self, X, y, reinitialize_weights=True):\n",
    "\n",
    "        if reinitialize_weights:\n",
    "            self.w_ = np.zeros(1 + X.shape[1])\n",
    "        self.cost_ = []\n",
    "\n",
    "        for i in range(self.epochs):\n",
    "            for xi, target in zip(X, y):\n",
    "                output = self.net_input(xi)\n",
    "                error = (target - output)\n",
    "                self.w_[1:] += self.eta * xi.dot(error)\n",
    "                self.w_[0] += self.eta * error\n",
    "            \n",
    "            cost = ((y - self.activation(X))**2).sum() / 2.0\n",
    "            self.cost_.append(cost)\n",
    "        return self\n",
    "\n",
    "    def net_input(self, X):\n",
    "        return np.dot(X, self.w_[1:]) + self.w_[0]\n",
    "\n",
    "    def activation(self, X):\n",
    "        return self.net_input(X)\n",
    "\n",
    "    def predict(self, X):\n",
    "        return np.where(self.activation(X) >= 0.0, 1, -1)"
   ]
  },
  {
   "cell_type": "markdown",
   "metadata": {},
   "source": [
    "Mais um conselho antes de deixarmos que a adaline aprenda via gradiente descendente estocástico é embaralhar o conjunto de dados de treinamento para iterar sobre as amostras de treinamento em ordem aleatória.\n",
    "\n",
    "Notaremos que o algoritmo de descida de gradiente estocástico \"padrão\" usa amostragem \"com substituição\", o que significa que a cada iteração, uma amostra de treinamento é escolhida aleatoriamente de todo o conjunto de treinamento. Em contraste, amostragem \"sem substituição\", o que significa que cada amostra de treinamento é avaliada exatamente uma vez em cada época, não só é mais fácil de implementar, como também mostra um melhor desempenho em comparações empíricas."
   ]
  },
  {
   "cell_type": "code",
   "execution_count": 13,
   "metadata": {
    "collapsed": false
   },
   "outputs": [
    {
     "data": {
      "image/png": "[encoded data removed]",
      "text/plain": [
       "<Figure size 432x288 with 1 Axes>"
      ]
     },
     "metadata": {
      "needs_background": "light"
     },
     "output_type": "display_data"
    },
    {
     "data": {
      "image/png": "[encoded data removed]",
      "text/plain": [
       "<Figure size 432x288 with 1 Axes>"
      ]
     },
     "metadata": {
      "needs_background": "light"
     },
     "output_type": "display_data"
    }
   ],
   "source": [
    "ada = AdalineSGD(epochs=15, eta=0.01)\n",
    "\n",
    "# shuffle data\n",
    "np.random.seed(123)\n",
    "idx = np.random.permutation(len(y))\n",
    "X_shuffled, y_shuffled =  X_std[idx], y[idx]\n",
    "\n",
    "# train and adaline and plot decision regions\n",
    "ada.train(X_shuffled, y_shuffled)\n",
    "plot_decision_regions(X_shuffled, y_shuffled, clf=ada)\n",
    "plt.title('Adaline - Gradient Descent')\n",
    "plt.xlabel('sepal length [standardized]')\n",
    "plt.ylabel('petal length [standardized]')\n",
    "plt.show()\n",
    "\n",
    "plt.plot(range(1, len(ada.cost_)+1), ada.cost_, marker='o')\n",
    "plt.xlabel('Iterations')\n",
    "plt.ylabel('Sum-squared-error')\n",
    "plt.show()"
   ]
  }
 ],
 "metadata": {
  "anaconda-cloud": {},
  "kernelspec": {
   "display_name": "Python 2",
   "language": "python",
   "name": "python2"
  },
  "language_info": {
   "codemirror_mode": {
    "name": "ipython",
    "version": 2
   },
   "file_extension": ".py",
   "mimetype": "text/x-python",
   "name": "python",
   "nbconvert_exporter": "python",
   "pygments_lexer": "ipython2",
   "version": "2.7.15"
  }
 },
 "nbformat": 4,
 "nbformat_minor": 2
}
