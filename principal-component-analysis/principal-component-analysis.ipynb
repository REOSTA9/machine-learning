{
 "cells": [
  {
   "cell_type": "markdown",
   "metadata": {},
   "source": [
    "# Principal Component Analysis (PCA)\n",
    "\n",
    "Principal Component Analysis (PCA) ou Análise dos Componentes Principais, é uma técnica de transformação linear simples, porém popular e útil, que é usada em inúmeras aplicações, como previsões de mercado de ações, análise de dados de expressão de genes e muito mais. Nesta aula, veremos que o PCA não é apenas uma “caixa preta”, e vamos desvendar seu mecanismo operacioanl em etapas básicas."
   ]
  },
  {
   "cell_type": "markdown",
   "metadata": {},
   "source": [
    "## Introdução\n",
    "\n",
    "O tamanho dos dados na era moderna não é apenas um desafio para o hardware, mas também é um gargalo principal para o desempenho de muitos algoritmos de aprendizado de máquina. O principal objetivo de uma análise utilizando PCA é identificar padrões nos dados.\n",
    "\n",
    "O PCA tem como objetivo detectar a correlação entre as variáveis, se existe uma forte correlação entre as variáveis, é possível utilizar o PCA na tentativa de reduzir a dimensionalidade dos dados.\n",
    "\n",
    "Em suma, é disso que se trata o PCA: encontrar as direções de máxima variação em dados de alta dimensão e projetá-los em um subespaço dimensional menor, mantendo a maior parte das informações."
   ]
  },
  {
   "cell_type": "markdown",
   "metadata": {},
   "source": [
    "## PCA e Redução de Dimensionalidade\n",
    "\n",
    "Freqüentemente, o objetivo desejado é reduzir as dimensões de um conjunto de dados d-dimensional, projetando-o em um subespaço (k)-dimensional (onde k < d), afim de aumentar a eficiência computacional, mantendo a maior parte da informação. Uma questão importante é \"qual é o tamanho de k que \"melhor representa\" os dados\n",
    "\n",
    "Mais tarde, iremos calcular os autovetores (os componentes principais) de um conjunto de dados e armazená-los em uma matriz de projeção. Cada um desses autovetores está associado a um autovalor que pode ser interpretado como “comprimento” ou “magnitude” do autovetor correspondente. Se alguns autovalores tiverem uma magnitude significativamente maior do que outros, é possível realizar a redução do da dimensão do onjunto de dados via PCA para um subespaço dimensional menor."
   ]
  },
  {
   "cell_type": "markdown",
   "metadata": {},
   "source": [
    "## Sumário da Abordagem do PCA\n",
    "\n",
    "- Normalize os dados.\n",
    "- Obtenha os autovetores e os autovalores da matriz de covariância ou da matriz de correlação, ou execute a decomposição vetorial singular.\n",
    "- Classifique os autovalores em ordem decrescente e escolha os k autovetores que correspondem aos k maiores autovalores, em que k é o número de dimensões do novo subespaço de recursos (k ≤ d).\n",
    "- Construa a matriz de projeção W a partir dos autovetores k selecionados.\n",
    "- Transformar o conjunto de dados original X por meio de W para obter um subespaço de características k dimensional Y."
   ]
  },
  {
   "cell_type": "markdown",
   "metadata": {},
   "source": [
    "## Preparando a base de Dados\n",
    "\n",
    "Para essa aula, trabalharemos com o famoso conjunto de dados \"Iris\" que pode ser encontrado no repositório de aprendizado de máquina da UCI (https://archive.ics.uci.edu/ml/datasets/Iris).\n",
    "\n",
    "O conjunto de dados da íris contém medições para 150 flores de íris de três espécies diferentes.\n",
    "\n",
    "As três classes no conjunto de dados Iris são:\n",
    "\n",
    "- Iris-setosa (n = 50)\n",
    "- Íris-versicolor (n = 50)\n",
    "- Iris-virginica (n = 50)\n",
    "\n",
    "E as quatro variáves do conjunto de dados são:\n",
    "\n",
    "- comprimento de sépala em cm\n",
    "- largura da sépala em cm\n",
    "- comprimento da pétala em cm\n",
    "- largura da pétala em cm\n",
    "\n",
    "<img src=\"iris.png\" />"
   ]
  },
  {
   "cell_type": "markdown",
   "metadata": {},
   "source": [
    "## Carregando a Base de Dados\n",
    "\n",
    "Para carregar os dados da Iris diretamente do repositório da UCI, vamos usar a biblioteca de pandas."
   ]
  },
  {
   "cell_type": "code",
   "execution_count": 1,
   "metadata": {},
   "outputs": [
    {
     "data": {
      "text/html": [
       "<div>\n",
       "<style scoped>\n",
       "    .dataframe tbody tr th:only-of-type {\n",
       "        vertical-align: middle;\n",
       "    }\n",
       "\n",
       "    .dataframe tbody tr th {\n",
       "        vertical-align: top;\n",
       "    }\n",
       "\n",
       "    .dataframe thead th {\n",
       "        text-align: right;\n",
       "    }\n",
       "</style>\n",
       "<table border=\"1\" class=\"dataframe\">\n",
       "  <thead>\n",
       "    <tr style=\"text-align: right;\">\n",
       "      <th></th>\n",
       "      <th>sepal_len</th>\n",
       "      <th>sepal_wid</th>\n",
       "      <th>petal_len</th>\n",
       "      <th>petal_wid</th>\n",
       "      <th>class</th>\n",
       "    </tr>\n",
       "  </thead>\n",
       "  <tbody>\n",
       "    <tr>\n",
       "      <th>145</th>\n",
       "      <td>6.7</td>\n",
       "      <td>3.0</td>\n",
       "      <td>5.2</td>\n",
       "      <td>2.3</td>\n",
       "      <td>Iris-virginica</td>\n",
       "    </tr>\n",
       "    <tr>\n",
       "      <th>146</th>\n",
       "      <td>6.3</td>\n",
       "      <td>2.5</td>\n",
       "      <td>5.0</td>\n",
       "      <td>1.9</td>\n",
       "      <td>Iris-virginica</td>\n",
       "    </tr>\n",
       "    <tr>\n",
       "      <th>147</th>\n",
       "      <td>6.5</td>\n",
       "      <td>3.0</td>\n",
       "      <td>5.2</td>\n",
       "      <td>2.0</td>\n",
       "      <td>Iris-virginica</td>\n",
       "    </tr>\n",
       "    <tr>\n",
       "      <th>148</th>\n",
       "      <td>6.2</td>\n",
       "      <td>3.4</td>\n",
       "      <td>5.4</td>\n",
       "      <td>2.3</td>\n",
       "      <td>Iris-virginica</td>\n",
       "    </tr>\n",
       "    <tr>\n",
       "      <th>149</th>\n",
       "      <td>5.9</td>\n",
       "      <td>3.0</td>\n",
       "      <td>5.1</td>\n",
       "      <td>1.8</td>\n",
       "      <td>Iris-virginica</td>\n",
       "    </tr>\n",
       "  </tbody>\n",
       "</table>\n",
       "</div>"
      ],
      "text/plain": [
       "     sepal_len  sepal_wid  petal_len  petal_wid           class\n",
       "145        6.7        3.0        5.2        2.3  Iris-virginica\n",
       "146        6.3        2.5        5.0        1.9  Iris-virginica\n",
       "147        6.5        3.0        5.2        2.0  Iris-virginica\n",
       "148        6.2        3.4        5.4        2.3  Iris-virginica\n",
       "149        5.9        3.0        5.1        1.8  Iris-virginica"
      ]
     },
     "execution_count": 1,
     "metadata": {},
     "output_type": "execute_result"
    }
   ],
   "source": [
    "import pandas as pd\n",
    "\n",
    "df = pd.read_csv(\n",
    "    filepath_or_buffer='https://archive.ics.uci.edu/ml/machine-learning-databases/iris/iris.data',\n",
    "    header=None,\n",
    "    sep=',')\n",
    "\n",
    "df.columns=['sepal_len', 'sepal_wid', 'petal_len', 'petal_wid', 'class']\n",
    "df.dropna(how=\"all\", inplace=True) # drops the empty line at file-end\n",
    "\n",
    "df.tail()"
   ]
  },
  {
   "cell_type": "code",
   "execution_count": 4,
   "metadata": {},
   "outputs": [],
   "source": [
    "X = df.iloc[:, 0:4].values\n",
    "y = df.iloc[:, 4].values"
   ]
  },
  {
   "cell_type": "markdown",
   "metadata": {},
   "source": [
    "## Visualização de Dados Exploratória\n",
    "\n",
    "Para ter uma ideia de como as 3 classes de flores diferentes são distribuídas ao longo das 4 características diferentes, vamos visualizá-las através de histogramas."
   ]
  },
  {
   "cell_type": "code",
   "execution_count": 5,
   "metadata": {},
   "outputs": [],
   "source": [
    "%matplotlib inline"
   ]
  },
  {
   "cell_type": "code",
   "execution_count": 6,
   "metadata": {},
   "outputs": [
    {
     "data": {
      "image/png": "[encoded data removed]",
      "text/plain": [
       "<Figure size 576x432 with 4 Axes>"
      ]
     },
     "metadata": {},
     "output_type": "display_data"
    }
   ],
   "source": [
    "from matplotlib import pyplot as plt\n",
    "import numpy as np\n",
    "import math\n",
    "\n",
    "label_dict = {1: 'Iris-Setosa',\n",
    "              2: 'Iris-Versicolor',\n",
    "              3: 'Iris-Virgnica'}\n",
    "\n",
    "feature_dict = {0: 'sepal length [cm]',\n",
    "                1: 'sepal width [cm]',\n",
    "                2: 'petal length [cm]',\n",
    "                3: 'petal width [cm]'}\n",
    "\n",
    "with plt.style.context('seaborn-whitegrid'):\n",
    "    plt.figure(figsize=(8, 6))\n",
    "    for cnt in range(4):\n",
    "        plt.subplot(2, 2, cnt+1)\n",
    "        for lab in ('Iris-setosa', 'Iris-versicolor', 'Iris-virginica'):\n",
    "            plt.hist(X[y==lab, cnt],\n",
    "                     label=lab,\n",
    "                     bins=10,\n",
    "                     alpha=0.3,)\n",
    "        plt.xlabel(feature_dict[cnt])\n",
    "    plt.legend(loc='upper right', fancybox=True, fontsize=8)\n",
    "\n",
    "    plt.tight_layout()\n",
    "    plt.show()"
   ]
  },
  {
   "cell_type": "markdown",
   "metadata": {},
   "source": [
    "## Normalização dos Dados\n",
    "\n",
    "A normalização dos dados antes da aplicação PCA na matriz de covariância depende das escalas das variáveis. Como o PCA produz um subespaço de vetorial que maximiza a variância ao longo dos eixos, é razoável normalizar os dados, especialmente se eles estão em escalas diferentes.\n",
    "\n",
    "Embora todos as variáveis do conjunto de dados Iris tenham sido medidas em centímetros, continuamos com a transformação dos dados em escala unitária (média = 0 e variância = 1), o que é um requisito para o desempenho ideal de muitos algoritmos de aprendizado de máquina."
   ]
  },
  {
   "cell_type": "code",
   "execution_count": 7,
   "metadata": {},
   "outputs": [],
   "source": [
    "from sklearn.preprocessing import StandardScaler\n",
    "X_std = StandardScaler().fit_transform(X)"
   ]
  },
  {
   "cell_type": "markdown",
   "metadata": {},
   "source": [
    "# 1. Autodecomposição - Calculando Auto-Valores e Auto-Vetores\n",
    "\n",
    "Os autovetores e autovalores de uma matriz de covariância (ou correlação) representam o “núcleo” de um PCA: os autovetores (componentes principais) determinam as direções do novo espaço de característica, e os autovalores determinam sua magnitude. Em outras palavras, os autovalores explicam a variância dos dados ao longo dos novos eixos do recurso."
   ]
  },
  {
   "cell_type": "markdown",
   "metadata": {},
   "source": [
    "## 1.1 Matriz de Covariância\n",
    "\n",
    "A abordagem clássica para o PCA é realizar a eigendecomposição na matriz de covariância Σ, que é uma matriz d × d onde cada elemento representa a covariância entre duas variáveis"
   ]
  },
  {
   "cell_type": "code",
   "execution_count": 8,
   "metadata": {},
   "outputs": [
    {
     "name": "stdout",
     "output_type": "stream",
     "text": [
      "Covariance matrix \n",
      "[[ 1.00671141 -0.11010327  0.87760486  0.82344326]\n",
      " [-0.11010327  1.00671141 -0.42333835 -0.358937  ]\n",
      " [ 0.87760486 -0.42333835  1.00671141  0.96921855]\n",
      " [ 0.82344326 -0.358937    0.96921855  1.00671141]]\n"
     ]
    }
   ],
   "source": [
    "import numpy as np\n",
    "mean_vec = np.mean(X_std, axis=0)\n",
    "cov_mat = (X_std - mean_vec).T.dot((X_std - mean_vec)) / (X_std.shape[0]-1)\n",
    "print('Covariance matrix \\n%s' %cov_mat)"
   ]
  },
  {
   "cell_type": "markdown",
   "metadata": {},
   "source": [
    "De maneira mais simples, poderíamos utilizar a biblioteca numpy"
   ]
  },
  {
   "cell_type": "code",
   "execution_count": 10,
   "metadata": {},
   "outputs": [
    {
     "name": "stdout",
     "output_type": "stream",
     "text": [
      "NumPy covariance matrix: \n",
      "[[ 1.00671141 -0.11010327  0.87760486  0.82344326]\n",
      " [-0.11010327  1.00671141 -0.42333835 -0.358937  ]\n",
      " [ 0.87760486 -0.42333835  1.00671141  0.96921855]\n",
      " [ 0.82344326 -0.358937    0.96921855  1.00671141]]\n"
     ]
    }
   ],
   "source": [
    "print('NumPy covariance matrix: \\n%s' %np.cov(X_std.T))"
   ]
  },
  {
   "cell_type": "markdown",
   "metadata": {},
   "source": [
    "Em seguida, realizamos uma auto-decomposição na matriz de covariância:"
   ]
  },
  {
   "cell_type": "code",
   "execution_count": 11,
   "metadata": {},
   "outputs": [
    {
     "name": "stdout",
     "output_type": "stream",
     "text": [
      "Eigenvectors \n",
      "[[ 0.52237162 -0.37231836 -0.72101681  0.26199559]\n",
      " [-0.26335492 -0.92555649  0.24203288 -0.12413481]\n",
      " [ 0.58125401 -0.02109478  0.14089226 -0.80115427]\n",
      " [ 0.56561105 -0.06541577  0.6338014   0.52354627]]\n",
      "\n",
      "Eigenvalues \n",
      "[2.93035378 0.92740362 0.14834223 0.02074601]\n"
     ]
    }
   ],
   "source": [
    "cov_mat = np.cov(X_std.T)\n",
    "\n",
    "eig_vals, eig_vecs = np.linalg.eig(cov_mat)\n",
    "\n",
    "print('Eigenvectors \\n%s' %eig_vecs)\n",
    "print('\\nEigenvalues \\n%s' %eig_vals)"
   ]
  },
  {
   "cell_type": "markdown",
   "metadata": {},
   "source": [
    "## 1.2 Matriz de Correlação\n",
    "\n",
    "Especialmente, no campo de \"Finanças\", a matriz de correlação normalmente é usada em vez da matriz de covariância. No entanto, a auto-decomposição da matriz de covariância (se os dados de entrada foram normalizados) produz os mesmos resultados que uma auto-decomposição na matriz de correlação não normalizada, uma vez que a matriz de correlação pode ser entendida como a matriz de covariância normalizada.\n",
    "\n",
    "• Auto-decomposição dos dados padronizados com base na matriz de correlação:"
   ]
  },
  {
   "cell_type": "code",
   "execution_count": 12,
   "metadata": {},
   "outputs": [
    {
     "name": "stdout",
     "output_type": "stream",
     "text": [
      "Eigenvectors \n",
      "[[ 0.52237162 -0.37231836 -0.72101681  0.26199559]\n",
      " [-0.26335492 -0.92555649  0.24203288 -0.12413481]\n",
      " [ 0.58125401 -0.02109478  0.14089226 -0.80115427]\n",
      " [ 0.56561105 -0.06541577  0.6338014   0.52354627]]\n",
      "\n",
      "Eigenvalues \n",
      "[2.91081808 0.92122093 0.14735328 0.02060771]\n"
     ]
    }
   ],
   "source": [
    "cor_mat1 = np.corrcoef(X_std.T)\n",
    "\n",
    "eig_vals, eig_vecs = np.linalg.eig(cor_mat1)\n",
    "\n",
    "print('Eigenvectors \\n%s' %eig_vecs)\n",
    "print('\\nEigenvalues \\n%s' %eig_vals)"
   ]
  },
  {
   "cell_type": "markdown",
   "metadata": {},
   "source": [
    "• Auto-decomposição dos dados não normalizados com base na matriz de correlação:"
   ]
  },
  {
   "cell_type": "code",
   "execution_count": 13,
   "metadata": {},
   "outputs": [
    {
     "name": "stdout",
     "output_type": "stream",
     "text": [
      "Eigenvectors \n",
      "[[ 0.52237162 -0.37231836 -0.72101681  0.26199559]\n",
      " [-0.26335492 -0.92555649  0.24203288 -0.12413481]\n",
      " [ 0.58125401 -0.02109478  0.14089226 -0.80115427]\n",
      " [ 0.56561105 -0.06541577  0.6338014   0.52354627]]\n",
      "\n",
      "Eigenvalues \n",
      "[2.91081808 0.92122093 0.14735328 0.02060771]\n"
     ]
    }
   ],
   "source": [
    "cor_mat2 = np.corrcoef(X.T)\n",
    "\n",
    "eig_vals, eig_vecs = np.linalg.eig(cor_mat2)\n",
    "\n",
    "print('Eigenvectors \\n%s' %eig_vecs)\n",
    "print('\\nEigenvalues \\n%s' %eig_vals)"
   ]
  },
  {
   "cell_type": "markdown",
   "metadata": {},
   "source": [
    "Podemos ver claramente que todas as três abordagens produzem os mesmos autovetores e pares de autovalores:\n",
    "\n",
    "- Auto-decomposição da matriz de covariância após normalização dos dados.\n",
    "- Auto-decomposição da matriz de correlação.\n",
    "- Auto-decomposição da matriz de correlação após a normalização dos dados."
   ]
  },
  {
   "cell_type": "markdown",
   "metadata": {},
   "source": [
    "## 1.3 Decomposição Vetorial Singular\n",
    "\n",
    "Enquanto a Auto-decomposição da matriz covariância ou matriz de correlação pode ser mais intuitiva, a maioria das implementações do PCA executam uma SVD (Singular Vector Decomposition - Decomposição Vetorial Singular) para melhorar a eficiência computacional. Então, vamos realizar um SVD para confirmar que o resultado é realmente o mesmo:"
   ]
  },
  {
   "cell_type": "code",
   "execution_count": 15,
   "metadata": {},
   "outputs": [
    {
     "data": {
      "text/plain": [
       "array([[-0.52237162, -0.37231836,  0.72101681,  0.26199559],\n",
       "       [ 0.26335492, -0.92555649, -0.24203288, -0.12413481],\n",
       "       [-0.58125401, -0.02109478, -0.14089226, -0.80115427],\n",
       "       [-0.56561105, -0.06541577, -0.6338014 ,  0.52354627]])"
      ]
     },
     "execution_count": 15,
     "metadata": {},
     "output_type": "execute_result"
    }
   ],
   "source": [
    "u,s,v = np.linalg.svd(X_std.T)\n",
    "u"
   ]
  },
  {
   "cell_type": "markdown",
   "metadata": {},
   "source": [
    "# 2. Selecionando os componentes principais"
   ]
  },
  {
   "cell_type": "markdown",
   "metadata": {},
   "source": [
    "## 2.1 Ordenando os Auto-Pares\n",
    "\n",
    "O objetivo típico de um PCA é reduzir a dimensionalidade do espaço de variáveis original projetando-o em um subespaço menor, onde os autovetores formarão os eixos. No entanto, os autovetores definem apenas as direções do novo eixo, uma vez que possuem o mesmo comprimento de unidade 1, o que pode ser confirmado pelas duas linhas de código a seguir:"
   ]
  },
  {
   "cell_type": "code",
   "execution_count": 16,
   "metadata": {},
   "outputs": [],
   "source": [
    "for ev in eig_vecs.T:\n",
    "    np.testing.assert_array_almost_equal(1.0, np.linalg.norm(ev))"
   ]
  },
  {
   "cell_type": "markdown",
   "metadata": {},
   "source": [
    "Para decidir qual(is) autovetor(es) podem ser descartado sem perda de muita informação para a construção do subespaço de menor dimensão, precisamos inspecionar os autovalores correspondentes: Os autovetores com os menores autovalores possuem a menor informação sobre a distribuição dos dados; esses são os que podem ser descartados.\n",
    "\n",
    "Para fazer isso, a abordagem comum é ordenar os autovalores do maior para o menor, a fim de escolher os autovetores k principais."
   ]
  },
  {
   "cell_type": "code",
   "execution_count": 17,
   "metadata": {},
   "outputs": [
    {
     "name": "stdout",
     "output_type": "stream",
     "text": [
      "Eigenvalues in descending order:\n",
      "2.9108180837520528\n",
      "0.9212209307072254\n",
      "0.1473532783050958\n",
      "0.020607707235624842\n"
     ]
    }
   ],
   "source": [
    "# Faça uma lista de tuplas (autovalor, autovetor)\n",
    "eig_pairs = [(np.abs(eig_vals[i]), eig_vecs[:,i]) for i in range(len(eig_vals))]\n",
    "\n",
    "# Ordene essa lista em ordem decrescente (do maior para o menor) usando os autovalores como referencia\n",
    "eig_pairs.sort(key=lambda x: x[0], reverse=True)\n",
    "\n",
    "print('Eigenvalues in descending order:')\n",
    "for i in eig_pairs:\n",
    "    print(i[0])"
   ]
  },
  {
   "cell_type": "markdown",
   "metadata": {},
   "source": [
    "## 2.2 Variância Acumulada\n",
    "\n",
    "Depois de ordenar os pares, a próxima pergunta é “quantos componentes principais vamos escolher para o nosso novo subespaço de variáveis?” Uma medida útil é a chamada “variância acumulada”, que pode ser calculada a partir dos autovalores. A variância acumulada nos diz quanta informação (variância) pode ser atribuída a cada um dos componentes principais."
   ]
  },
  {
   "cell_type": "code",
   "execution_count": 18,
   "metadata": {},
   "outputs": [],
   "source": [
    "tot = sum(eig_vals)\n",
    "var_exp = [(i / tot)*100 for i in sorted(eig_vals, reverse=True)]\n",
    "cum_var_exp = np.cumsum(var_exp)"
   ]
  },
  {
   "cell_type": "code",
   "execution_count": 19,
   "metadata": {},
   "outputs": [
    {
     "data": {
      "image/png": "[encoded data removed]",
      "text/plain": [
       "<Figure size 432x288 with 1 Axes>"
      ]
     },
     "metadata": {},
     "output_type": "display_data"
    }
   ],
   "source": [
    "with plt.style.context('seaborn-whitegrid'):\n",
    "    plt.figure(figsize=(6, 4))\n",
    "\n",
    "    plt.bar(range(4), var_exp, alpha=0.5, align='center',\n",
    "            label='individual explained variance')\n",
    "    plt.step(range(4), cum_var_exp, where='mid',\n",
    "             label='cumulative explained variance')\n",
    "    plt.ylabel('Explained variance ratio')\n",
    "    plt.xlabel('Principal components')\n",
    "    plt.legend(loc='best')\n",
    "    plt.tight_layout()"
   ]
  },
  {
   "cell_type": "markdown",
   "metadata": {},
   "source": [
    "O gráfico acima mostra claramente que a maior parte da variância (72,77% da variância) está armazenada apenas no primeiro componente principal. O segundo componente principal ainda contém algumas informações (23,03%), enquanto o terceiro e quarto componentes principais podem ser descartados com segurança sem perder muita informação. Juntos, os dois primeiros componentes principais contêm 95,8% das informações."
   ]
  },
  {
   "cell_type": "markdown",
   "metadata": {},
   "source": [
    "## 2.3 Matriz de Projeção\n",
    "\n",
    "É hora da parte realmente interessante: a construção da matriz de projeção que será usada para transformar os dados da Iris no novo subespaço de variáveis. O nome “matriz de projeção” pode parecer confuso, mas é basicamente apenas uma matriz dos nossos autovetores com k maiores autovalores, todos concatenados lado a lado.\n",
    "\n",
    "Aqui, estamos reduzindo o espaço de variáveis 4-dimensional a um subespaço de variáveis bidimensional, escolhendo os autovetores “top 2” com os mais altos autovalores para construir nossa matriz de autovetores d × k-dimensional."
   ]
  },
  {
   "cell_type": "code",
   "execution_count": 20,
   "metadata": {},
   "outputs": [
    {
     "name": "stdout",
     "output_type": "stream",
     "text": [
      "('Matrix W:\\n', array([[ 0.52237162, -0.37231836],\n",
      "       [-0.26335492, -0.92555649],\n",
      "       [ 0.58125401, -0.02109478],\n",
      "       [ 0.56561105, -0.06541577]]))\n"
     ]
    }
   ],
   "source": [
    "matrix_w = np.hstack((eig_pairs[0][1].reshape(4,1),\n",
    "                      eig_pairs[1][1].reshape(4,1)))\n",
    "\n",
    "print('Matrix W:\\n', matrix_w)"
   ]
  },
  {
   "cell_type": "markdown",
   "metadata": {},
   "source": [
    "# 3. Projeção no novo espaço de variáveis\n",
    "\n",
    "\n",
    "Nesta última etapa, usaremos a matriz de projeção 4 × 2-dimensional W para transformar nossa base no novo subespaço através da equação.\n",
    "\n",
    "Y = X × W, em que Y é uma matriz de 150 × 2 das nossas amostras transformadas."
   ]
  },
  {
   "cell_type": "code",
   "execution_count": 21,
   "metadata": {},
   "outputs": [],
   "source": [
    "Y = X_std.dot(matrix_w)"
   ]
  },
  {
   "cell_type": "code",
   "execution_count": 22,
   "metadata": {},
   "outputs": [
    {
     "data": {
      "image/png": "[encoded data removed]",
      "text/plain": [
       "<Figure size 432x288 with 1 Axes>"
      ]
     },
     "metadata": {},
     "output_type": "display_data"
    }
   ],
   "source": [
    "with plt.style.context('seaborn-whitegrid'):\n",
    "    plt.figure(figsize=(6, 4))\n",
    "    for lab, col in zip(('Iris-setosa', 'Iris-versicolor', 'Iris-virginica'),\n",
    "                        ('blue', 'red', 'green')):\n",
    "        plt.scatter(Y[y==lab, 0],\n",
    "                    Y[y==lab, 1],\n",
    "                    label=lab,\n",
    "                    c=col)\n",
    "    plt.xlabel('Principal Component 1')\n",
    "    plt.ylabel('Principal Component 2')\n",
    "    plt.legend(loc='lower center')\n",
    "    plt.tight_layout()\n",
    "    plt.show()"
   ]
  },
  {
   "cell_type": "markdown",
   "metadata": {},
   "source": [
    "# PCA no scikit-learn\n",
    "\n",
    "Para fins educacionais, percorremos um longo caminho para aplicar o PCA ao conjunto de dados Iris. Mas, felizmente, já existe implementação no scikit-learn."
   ]
  },
  {
   "cell_type": "code",
   "execution_count": 23,
   "metadata": {},
   "outputs": [],
   "source": [
    "from sklearn.decomposition import PCA as sklearnPCA\n",
    "sklearn_pca = sklearnPCA(n_components=2)\n",
    "Y_sklearn = sklearn_pca.fit_transform(X_std)"
   ]
  },
  {
   "cell_type": "code",
   "execution_count": 24,
   "metadata": {},
   "outputs": [
    {
     "data": {
      "image/png": "[encoded data removed]",
      "text/plain": [
       "<Figure size 432x288 with 1 Axes>"
      ]
     },
     "metadata": {},
     "output_type": "display_data"
    }
   ],
   "source": [
    "with plt.style.context('seaborn-whitegrid'):\n",
    "    plt.figure(figsize=(6, 4))\n",
    "    for lab, col in zip(('Iris-setosa', 'Iris-versicolor', 'Iris-virginica'),\n",
    "                        ('blue', 'red', 'green')):\n",
    "        plt.scatter(Y_sklearn[y==lab, 0],\n",
    "                    Y_sklearn[y==lab, 1],\n",
    "                    label=lab,\n",
    "                    c=col)\n",
    "    plt.xlabel('Principal Component 1')\n",
    "    plt.ylabel('Principal Component 2')\n",
    "    plt.legend(loc='lower center')\n",
    "    plt.tight_layout()\n",
    "    plt.show()"
   ]
  },
  {
   "cell_type": "code",
   "execution_count": null,
   "metadata": {},
   "outputs": [],
   "source": []
  }
 ],
 "metadata": {
  "kernelspec": {
   "display_name": "Python 2",
   "language": "python",
   "name": "python2"
  },
  "language_info": {
   "codemirror_mode": {
    "name": "ipython",
    "version": 2
   },
   "file_extension": ".py",
   "mimetype": "text/x-python",
   "name": "python",
   "nbconvert_exporter": "python",
   "pygments_lexer": "ipython2",
   "version": "2.7.15"
  }
 },
 "nbformat": 4,
 "nbformat_minor": 2
}
