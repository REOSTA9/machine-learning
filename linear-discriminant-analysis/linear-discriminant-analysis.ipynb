{
 "cells": [
  {
   "cell_type": "markdown",
   "metadata": {},
   "source": [
    "# Linear Discriminant Analysis\n",
    "\n",
    "A Análise Linear do Discriminante (LDA) é mais comumente usada como técnica de redução de dimensionalidade na etapa de pré-processamento para aplicações de classificação de padrões e de aprendizado de máquina. O objetivo é projetar um conjunto de dados em um espaço de menor dimensão com boa separabilidade de classe, afim de evitar overfitting (\"maldição de dimensionalidade\") e também reduzir os custos computacionais.\n",
    "\n",
    "A abordagem geral do LDA é muito parecida com a do PCA, mas além de encontrar os eixos de componentes que maximizam o variância de nossos dados (PCA), estamos adicionalmente interessados nos eixos que maximizam a separação entre múltiplas classes (LDA).\n",
    "\n",
    "Portanto, em poucas palavras, o objetivo do LDA é projetar o espaço de variáveis originais em um subespaço de menor dimensionalidade k (onde k ≤ n − 1), mantendo as informações discriminatórias entre as classes. Em geral, a redução de dimensionalidade não apenas ajuda a reduzir os custos computacionais para uma determinada tarefa de classificação, mas também pode ser útil para evitar o overfiting, minimizando o erro na estimativa de parâmetros. (“maldição de dimensionalidade”)."
   ]
  },
  {
   "cell_type": "markdown",
   "metadata": {},
   "source": [
    "## Principal Component Analysis vs. Linear Discriminant Analysis\n",
    "\n",
    "Tanto a Análise Linear do Discriminante (LDA) como a Análise dos Componentes Principais (PCA) são técnicas de transformação linear que são comumente usadas para redução de dimensionalidade. O PCA pode ser descrito como um algoritmo “não supervisionado”, já que “ignora” rótulos de classes e seu objetivo é encontrar as direções (os chamados componentes principais) que maximizam a variação em um conjunto de dados. Em contraste com o PCA, o LDA é “supervisionado” e calcula as direções (“discriminantes lineares”) que representarão os eixos que maximizam a separação entre múltiplas classes.\n",
    "\n",
    "Embora possa parecer que o LDA seja superior ao PCA para uma tarefa de classificação de várias classes em que os rótulos das classe são conhecidos, isso nem sempre acontece. Por exemplo, comparações entre exatidões de classificação para reconhecimento de imagem após o uso de PCA ou LDA mostram que o PCA tende a superar o LDA se o número de amostras por classe for relativamente pequeno. Na prática, também não é incomum usar ambos LDA e PCA em combinação: por exemplo, PCA para redução de dimensionalidade seguido por um LDA.\n",
    "\n",
    "<img src=\"img/lda_vs_pca.png\" />"
   ]
  },
  {
   "cell_type": "markdown",
   "metadata": {},
   "source": [
    "## Resumindo o LDA em 5 etapas\n",
    "\n",
    "Abaixo estão listadas as 5 etapas gerais para realizar uma análise discriminante linear.\n",
    "\n",
    "- Calcule os vetores de média d-dimensional para as diferentes classes do conjunto de dados.\n",
    "- Calcule as matrizes de dispersão (matriz de dispersão entre classes e dentro da classe).\n",
    "- Calcule os autovetores $ (e_1, e_2, ..., e_d) $ e os autovalores correspondentes $ (λ_1, λ_2, ..., λ_d)$ para as matrizes de dispersão.\n",
    "- Ordene os autovetores com relação aos respectivos autovalores e escolha k autovetores com os maiores autovalores para formar uma matriz $ W $ de dimensões $ d × k $ (onde cada coluna representa um autovetor).\n",
    "- Use essa matriz de autovetores $ d × k $ para transformar as instâncias no novo subespaço. Isso pode ser resumido pela multiplicação da matriz: $ Y = X × W $ (onde $ X $ é uma matriz $ n × d $ dimensional que representa as n instâncias, e $ y $ são as amostras transformadas $ n × k $ dimensionais no novo subespaço)."
   ]
  },
  {
   "cell_type": "markdown",
   "metadata": {},
   "source": [
    "## Preparando a base de Dados\n",
    "\n",
    "Para essa aula, trabalharemos com o famoso conjunto de dados \"Iris\" que pode ser encontrado no repositório de aprendizado de máquina da UCI (https://archive.ics.uci.edu/ml/datasets/Iris).\n",
    "\n",
    "O conjunto de dados da íris contém medições para 150 flores de íris de três espécies diferentes.\n",
    "\n",
    "As três classes no conjunto de dados Iris são:\n",
    "\n",
    "- Iris-setosa (n = 50)\n",
    "- Íris-versicolor (n = 50)\n",
    "- Iris-virginica (n = 50)\n",
    "\n",
    "E as quatro variáves do conjunto de dados são:\n",
    "\n",
    "- comprimento de sépala em cm\n",
    "- largura da sépala em cm\n",
    "- comprimento da pétala em cm\n",
    "- largura da pétala em cm\n",
    "\n",
    "<img src=\"img/iris.png\" />"
   ]
  },
  {
   "cell_type": "markdown",
   "metadata": {},
   "source": [
    "## Carregando a Base de Dados\n",
    "\n",
    "Para carregar os dados da Iris diretamente do repositório da UCI, vamos usar a biblioteca de pandas."
   ]
  },
  {
   "cell_type": "code",
   "execution_count": 1,
   "metadata": {},
   "outputs": [
    {
     "data": {
      "text/html": [
       "<div>\n",
       "<style scoped>\n",
       "    .dataframe tbody tr th:only-of-type {\n",
       "        vertical-align: middle;\n",
       "    }\n",
       "\n",
       "    .dataframe tbody tr th {\n",
       "        vertical-align: top;\n",
       "    }\n",
       "\n",
       "    .dataframe thead th {\n",
       "        text-align: right;\n",
       "    }\n",
       "</style>\n",
       "<table border=\"1\" class=\"dataframe\">\n",
       "  <thead>\n",
       "    <tr style=\"text-align: right;\">\n",
       "      <th></th>\n",
       "      <th>sepal_len</th>\n",
       "      <th>sepal_wid</th>\n",
       "      <th>petal_len</th>\n",
       "      <th>petal_wid</th>\n",
       "      <th>class</th>\n",
       "    </tr>\n",
       "  </thead>\n",
       "  <tbody>\n",
       "    <tr>\n",
       "      <th>145</th>\n",
       "      <td>6.7</td>\n",
       "      <td>3.0</td>\n",
       "      <td>5.2</td>\n",
       "      <td>2.3</td>\n",
       "      <td>Iris-virginica</td>\n",
       "    </tr>\n",
       "    <tr>\n",
       "      <th>146</th>\n",
       "      <td>6.3</td>\n",
       "      <td>2.5</td>\n",
       "      <td>5.0</td>\n",
       "      <td>1.9</td>\n",
       "      <td>Iris-virginica</td>\n",
       "    </tr>\n",
       "    <tr>\n",
       "      <th>147</th>\n",
       "      <td>6.5</td>\n",
       "      <td>3.0</td>\n",
       "      <td>5.2</td>\n",
       "      <td>2.0</td>\n",
       "      <td>Iris-virginica</td>\n",
       "    </tr>\n",
       "    <tr>\n",
       "      <th>148</th>\n",
       "      <td>6.2</td>\n",
       "      <td>3.4</td>\n",
       "      <td>5.4</td>\n",
       "      <td>2.3</td>\n",
       "      <td>Iris-virginica</td>\n",
       "    </tr>\n",
       "    <tr>\n",
       "      <th>149</th>\n",
       "      <td>5.9</td>\n",
       "      <td>3.0</td>\n",
       "      <td>5.1</td>\n",
       "      <td>1.8</td>\n",
       "      <td>Iris-virginica</td>\n",
       "    </tr>\n",
       "  </tbody>\n",
       "</table>\n",
       "</div>"
      ],
      "text/plain": [
       "     sepal_len  sepal_wid  petal_len  petal_wid           class\n",
       "145        6.7        3.0        5.2        2.3  Iris-virginica\n",
       "146        6.3        2.5        5.0        1.9  Iris-virginica\n",
       "147        6.5        3.0        5.2        2.0  Iris-virginica\n",
       "148        6.2        3.4        5.4        2.3  Iris-virginica\n",
       "149        5.9        3.0        5.1        1.8  Iris-virginica"
      ]
     },
     "execution_count": 1,
     "metadata": {},
     "output_type": "execute_result"
    }
   ],
   "source": [
    "import pandas as pd\n",
    "\n",
    "df = pd.read_csv(\n",
    "    filepath_or_buffer='https://archive.ics.uci.edu/ml/machine-learning-databases/iris/iris.data',\n",
    "    header=None,\n",
    "    sep=',')\n",
    "\n",
    "df.columns=['sepal_len', 'sepal_wid', 'petal_len', 'petal_wid', 'class']\n",
    "df.dropna(how=\"all\", inplace=True) # drops the empty line at file-end\n",
    "\n",
    "df.tail()"
   ]
  },
  {
   "cell_type": "markdown",
   "metadata": {},
   "source": [
    "Como é mais conveniente trabalhar com valores numéricos, usaremos o LabelEncoder da biblioteca scikit-learn para converter os rótulos de classe em números: 1, 2 e 3."
   ]
  },
  {
   "cell_type": "code",
   "execution_count": 3,
   "metadata": {},
   "outputs": [],
   "source": [
    "from sklearn.preprocessing import LabelEncoder\n",
    "\n",
    "X = df[['sepal_len', 'sepal_wid', 'petal_len', 'petal_wid']].values\n",
    "y = df['class'].values\n",
    "\n",
    "enc = LabelEncoder()\n",
    "label_encoder = enc.fit(y)\n",
    "y = label_encoder.transform(y) + 1\n",
    "\n",
    "label_dict = {1: 'Setosa', 2: 'Versicolor', 3:'Virginica'}"
   ]
  },
  {
   "cell_type": "markdown",
   "metadata": {},
   "source": [
    "# Histogramas e Seleção de Variáveis\n",
    "\n",
    "Apenas para ter uma idéia aproximada de como as amostras de nossas três classes ω1, ω2 e ω3 são distribuídas, vamos visualizar as distribuições das quatro características diferentes em histogramas unidimensionais."
   ]
  },
  {
   "cell_type": "code",
   "execution_count": 4,
   "metadata": {},
   "outputs": [],
   "source": [
    "%matplotlib inline"
   ]
  },
  {
   "cell_type": "code",
   "execution_count": 7,
   "metadata": {},
   "outputs": [
    {
     "data": {
      "image/png": "[encoded data removed]",
      "text/plain": [
       "<Figure size 864x432 with 4 Axes>"
      ]
     },
     "metadata": {
      "needs_background": "light"
     },
     "output_type": "display_data"
    }
   ],
   "source": [
    "from matplotlib import pyplot as plt\n",
    "import numpy as np\n",
    "import math\n",
    "\n",
    "fig, axes = plt.subplots(nrows=2, ncols=2, figsize=(12,6))\n",
    "\n",
    "feature_dict = {i:label for i,label in zip(\n",
    "                range(4),\n",
    "                  ('sepal length in cm',\n",
    "                  'sepal width in cm',\n",
    "                  'petal length in cm',\n",
    "                  'petal width in cm', ))}\n",
    "\n",
    "for ax,cnt in zip(axes.ravel(), range(4)):  \n",
    "\n",
    "    # set bin sizes\n",
    "    min_b = math.floor(np.min(X[:,cnt]))\n",
    "    max_b = math.ceil(np.max(X[:,cnt]))\n",
    "    bins = np.linspace(min_b, max_b, 25)\n",
    "\n",
    "    # plottling the histograms\n",
    "    for lab,col in zip(range(1,4), ('blue', 'red', 'green')):\n",
    "        ax.hist(X[y==lab, cnt],\n",
    "                   color=col,\n",
    "                   label='class %s' %label_dict[lab],\n",
    "                   bins=bins,\n",
    "                   alpha=0.5,)\n",
    "    ylims = ax.get_ylim()\n",
    "\n",
    "    # plot annotation\n",
    "    leg = ax.legend(loc='upper right', fancybox=True, fontsize=8)\n",
    "    leg.get_frame().set_alpha(0.5)\n",
    "    ax.set_ylim([0, max(ylims)+2])\n",
    "    ax.set_xlabel(feature_dict[cnt])\n",
    "    ax.set_title('Iris histogram #%s' %str(cnt+1))\n",
    "\n",
    "    # hide axis ticks\n",
    "    ax.tick_params(axis=\"both\", which=\"both\", bottom=\"off\", top=\"off\",  \n",
    "            labelbottom=\"on\", left=\"off\", right=\"off\", labelleft=\"on\")\n",
    "\n",
    "    # remove axis spines\n",
    "    ax.spines[\"top\"].set_visible(False)  \n",
    "    ax.spines[\"right\"].set_visible(False)\n",
    "    ax.spines[\"bottom\"].set_visible(False)\n",
    "    ax.spines[\"left\"].set_visible(False)    \n",
    "\n",
    "axes[0][0].set_ylabel('count')\n",
    "axes[1][0].set_ylabel('count')\n",
    "\n",
    "fig.tight_layout()       \n",
    "\n",
    "plt.show()"
   ]
  },
  {
   "cell_type": "markdown",
   "metadata": {},
   "source": [
    "A partir da observação gráfica simples das variáveis, já podemos dizer que os comprimentos e larguras da pétala provavelmente são mais adequados como características potenciais, duas separadas entre as três classes de flores. Na prática, em vez de reduzir a dimensionalidade por meio de uma projeção, uma boa alternativa seria uma técnica de seleção de variáveis. Para conjuntos de dados de baixa dimensão, como Iris, uma olhada nesses histogramas já seria muito informativa."
   ]
  },
  {
   "cell_type": "markdown",
   "metadata": {},
   "source": [
    "# Pressuposição de Normalidade\n",
    "\n",
    "Deve-se mencionar que o LDA assume dados distribuídos normalmente, variáveis que são estatisticamente independentes e matrizes de covariância idênticas para cada classe. No entanto, isso só se aplica ao LDA como classificador e o LDA para redução de dimensionalidade também funciona razoavelmente bem mesmo se essas suposições forem violadas. E mesmo para tarefas de classificação, o LDA parece ser bastante robusto para a distribuição dos dados:\n",
    "\n",
    "“A análise linear do discriminante freqüentemente alcança bons desempenhos nas tarefas de reconhecimento de faces e objetos, mesmo que as suposições de matriz de covariância comum entre grupos e normalidade sejam frequentemente violadas (Duda, et al., 2001)” (Tao Li, et al., 2006)."
   ]
  },
  {
   "cell_type": "markdown",
   "metadata": {},
   "source": [
    "## Implementado o LDA\n",
    "\n",
    "### Etapa 1: Computando os vetores de média d-dimensional\n",
    "\n",
    "Nesta primeira etapa, começaremos com um simples cálculo dos vetores de médias $ m_i, (i = 1,2,3) $ das 3 classes de flores diferentes:"
   ]
  },
  {
   "cell_type": "code",
   "execution_count": 8,
   "metadata": {},
   "outputs": [
    {
     "name": "stdout",
     "output_type": "stream",
     "text": [
      "Mean Vector class 1: [5.006 3.418 1.464 0.244]\n",
      "\n",
      "Mean Vector class 2: [5.936 2.77  4.26  1.326]\n",
      "\n",
      "Mean Vector class 3: [6.588 2.974 5.552 2.026]\n",
      "\n"
     ]
    }
   ],
   "source": [
    "np.set_printoptions(precision=4)\n",
    "\n",
    "mean_vectors = []\n",
    "for cl in range(1,4):\n",
    "    mean_vectors.append(np.mean(X[y==cl], axis=0))\n",
    "    print('Mean Vector class %s: %s\\n' %(cl, mean_vectors[cl-1]))"
   ]
  },
  {
   "cell_type": "markdown",
   "metadata": {},
   "source": [
    "### Etapa 2: Computando as Matrizes de Dispersão\n",
    "\n",
    "Agora, vamos calcular as duas matrizes de dimensão 4x4: A matriz de dispersão entre classes e entre classes.\n",
    "\n",
    "#### 2.1 Matrix de Dispersão Intra Classes $ S_w $\n",
    "\n",
    "A matrix de dispersão Intra Classes $ S_w $ pode ser calculada da seguinte maneira:\n",
    "\n",
    "$$ S_w = \\sum_{i = 1}^{c} S_i $$\n",
    "\n",
    "onde $ S_i $ pode ser calculdado como segue:\n",
    "\n",
    "$$ S_i = \\sum_{x \\in D_i}^{x} (x - m_i)^{T} (x - m_i)$$"
   ]
  },
  {
   "cell_type": "code",
   "execution_count": 12,
   "metadata": {},
   "outputs": [
    {
     "name": "stdout",
     "output_type": "stream",
     "text": [
      "within-class Scatter Matrix:\n",
      "[[38.9562 13.683  24.614   5.6556]\n",
      " [13.683  17.035   8.12    4.9132]\n",
      " [24.614   8.12   27.22    6.2536]\n",
      " [ 5.6556  4.9132  6.2536  6.1756]]\n"
     ]
    }
   ],
   "source": [
    "S_W = np.zeros((4,4))\n",
    "for cl,mv in zip(range(1,4), mean_vectors):\n",
    "    class_sc_mat = np.zeros((4,4))                  # scatter matrix for every class\n",
    "    for row in X[y == cl]:\n",
    "        row, mv = row.reshape(4,1), mv.reshape(4,1) # make column vectors\n",
    "        class_sc_mat += (row-mv).dot((row-mv).T)\n",
    "    S_W += class_sc_mat                             # sum class scatter matrices\n",
    "print('within-class Scatter Matrix:')\n",
    "print(S_W)"
   ]
  },
  {
   "cell_type": "markdown",
   "metadata": {},
   "source": [
    "#### 2.1 Matrix de Dispersão Entre Classes $ S_B $\n",
    "\n",
    "A matrix de dispersão Entre Classes $ S_w $ pode ser calculada da seguinte maneira:\n",
    "\n",
    "$$ S_B = \\sum_{i = 1}^{c} N_i(m_i - m)^{T} (m_i - m)$$\n",
    "\n",
    "Onde $ m $ é a média geral da base, e $ m_i $ e $ N_i $ são a média e o tamanho das amostras das respectivas classes."
   ]
  },
  {
   "cell_type": "code",
   "execution_count": 13,
   "metadata": {},
   "outputs": [
    {
     "name": "stdout",
     "output_type": "stream",
     "text": [
      "between-class Scatter Matrix:\n",
      "[[ 63.2121 -19.534  165.1647  71.3631]\n",
      " [-19.534   10.9776 -56.0552 -22.4924]\n",
      " [165.1647 -56.0552 436.6437 186.9081]\n",
      " [ 71.3631 -22.4924 186.9081  80.6041]]\n"
     ]
    }
   ],
   "source": [
    "overall_mean = np.mean(X, axis=0)\n",
    "\n",
    "S_B = np.zeros((4,4))\n",
    "for i,mean_vec in enumerate(mean_vectors):  \n",
    "    n = X[y==i+1,:].shape[0]\n",
    "    mean_vec = mean_vec.reshape(4,1) # make column vector\n",
    "    overall_mean = overall_mean.reshape(4,1) # make column vector\n",
    "    S_B += n * (mean_vec - overall_mean).dot((mean_vec - overall_mean).T)\n",
    "\n",
    "print('between-class Scatter Matrix:')\n",
    "print(S_B)"
   ]
  },
  {
   "cell_type": "markdown",
   "metadata": {},
   "source": [
    "### Etapa 3: Encontrar os autovalores e autovetores para a matriz $ S_{W}^{-1}S_B$"
   ]
  },
  {
   "cell_type": "code",
   "execution_count": 14,
   "metadata": {},
   "outputs": [
    {
     "name": "stdout",
     "output_type": "stream",
     "text": [
      "\n",
      "Eigenvector 1: \n",
      "[[ 0.2049]\n",
      " [ 0.3871]\n",
      " [-0.5465]\n",
      " [-0.7138]]\n",
      "Eigenvalue 1: 3.23e+01\n",
      "\n",
      "Eigenvector 2: \n",
      "[[-0.009 ]\n",
      " [-0.589 ]\n",
      " [ 0.2543]\n",
      " [-0.767 ]]\n",
      "Eigenvalue 2: 2.78e-01\n",
      "\n",
      "Eigenvector 3: \n",
      "[[-0.8379]\n",
      " [ 0.1696]\n",
      " [ 0.1229]\n",
      " [ 0.5041]]\n",
      "Eigenvalue 3: -4.13e-15\n",
      "\n",
      "Eigenvector 4: \n",
      "[[ 0.2   ]\n",
      " [-0.3949]\n",
      " [-0.4567]\n",
      " [ 0.7717]]\n",
      "Eigenvalue 4: 1.20e-14\n"
     ]
    }
   ],
   "source": [
    "eig_vals, eig_vecs = np.linalg.eig(np.linalg.inv(S_W).dot(S_B))\n",
    "\n",
    "for i in range(len(eig_vals)):\n",
    "    eigvec_sc = eig_vecs[:,i].reshape(4,1)   \n",
    "    print('\\nEigenvector {}: \\n{}'.format(i+1, eigvec_sc.real))\n",
    "    print('Eigenvalue {:}: {:.2e}'.format(i+1, eig_vals[i].real))"
   ]
  },
  {
   "cell_type": "markdown",
   "metadata": {},
   "source": [
    "### Verificando o cálculo do autovetor e do autovalor\n",
    "\n",
    "Uma verificação rápida de que o cálculo do autovetor e do autovalor está correto e satisfaz a equação:\n",
    "\n",
    "$$ Av=λv$$\n",
    "\n",
    "Onde: \n",
    "$$ A = S_{W}^{-1}S_B $$\n",
    "$$ v = Autovetores$$\n",
    "$$ λ = Autovalores$$"
   ]
  },
  {
   "cell_type": "code",
   "execution_count": 15,
   "metadata": {},
   "outputs": [
    {
     "name": "stdout",
     "output_type": "stream",
     "text": [
      "ok\n"
     ]
    }
   ],
   "source": [
    "for i in range(len(eig_vals)):\n",
    "    eigv = eig_vecs[:,i].reshape(4,1)\n",
    "    np.testing.assert_array_almost_equal(np.linalg.inv(S_W).dot(S_B).dot(eigv),\n",
    "                                         eig_vals[i] * eigv,\n",
    "                                         decimal=6, err_msg='', verbose=True)\n",
    "print('ok')"
   ]
  },
  {
   "cell_type": "markdown",
   "metadata": {},
   "source": [
    "### Etapa 4: Selecionando discriminantes lineares para o novo subespaço de variáveis\n",
    "\n",
    "#### 4.1. Classificando os autovetores em ordem decrescente dos autovalores\n",
    "\n",
    "Lembre-se, desde a introdução, que não estamos interessados em apenas em projetar os dados em um subespaço que melhora a separabilidade de classes, mas também reduz a dimensionalidade de nosso espaço de variáveis.\n",
    "\n",
    "No entanto, os autovetores definem apenas as direções do novo eixo, pois possuem o mesmo comprimento unitário 1.\n",
    "\n",
    "Assim, afim de decidir que(ais) autovetor(es) queremos descartar para nosso subespaço de menor dimensão, temos que dar uma olhada nos autovalores correspondentes dos autovetores. Grosso modo, os autovetores com os menores autovalores possuem a menor informação sobre a distribuição dos dados, e esses são os que queremos eliminar.\n",
    "\n",
    "A abordagem comum é ordenar os autovetores do mais alto para o menor autovalor correspondente e escolher os autovetores k principais."
   ]
  },
  {
   "cell_type": "code",
   "execution_count": 16,
   "metadata": {},
   "outputs": [
    {
     "name": "stdout",
     "output_type": "stream",
     "text": [
      "Eigenvalues in decreasing order:\n",
      "\n",
      "32.27195779972981\n",
      "0.27756686384004264\n",
      "1.1953730364935478e-14\n",
      "4.1311796919088535e-15\n"
     ]
    }
   ],
   "source": [
    "# Make a list of (eigenvalue, eigenvector) tuples\n",
    "eig_pairs = [(np.abs(eig_vals[i]), eig_vecs[:,i]) for i in range(len(eig_vals))]\n",
    "\n",
    "# Sort the (eigenvalue, eigenvector) tuples from high to low\n",
    "eig_pairs = sorted(eig_pairs, key=lambda k: k[0], reverse=True)\n",
    "\n",
    "# Visually confirm that the list is correctly sorted by decreasing eigenvalues\n",
    "\n",
    "print('Eigenvalues in decreasing order:\\n')\n",
    "for i in eig_pairs:\n",
    "    print(i[0])"
   ]
  },
  {
   "cell_type": "markdown",
   "metadata": {},
   "source": [
    "#### 4.2 Variância Acumulada\n",
    "\n",
    "Agora, vamos expressar a \"variância acumulada\" como porcentagem:"
   ]
  },
  {
   "cell_type": "code",
   "execution_count": 17,
   "metadata": {},
   "outputs": [
    {
     "name": "stdout",
     "output_type": "stream",
     "text": [
      "Variance explained:\n",
      "\n",
      "eigenvalue 1: 99.15%\n",
      "eigenvalue 2: 0.85%\n",
      "eigenvalue 3: 0.00%\n",
      "eigenvalue 4: 0.00%\n"
     ]
    }
   ],
   "source": [
    "print('Variance explained:\\n')\n",
    "eigv_sum = sum(eig_vals)\n",
    "for i,j in enumerate(eig_pairs):\n",
    "    print('eigenvalue {0:}: {1:.2%}'.format(i+1, (j[0]/eigv_sum).real))\n"
   ]
  },
  {
   "cell_type": "markdown",
   "metadata": {},
   "source": [
    "#### 4.3 Escolhendo k autovetores com os maiores autovalores\n"
   ]
  },
  {
   "cell_type": "code",
   "execution_count": 18,
   "metadata": {},
   "outputs": [
    {
     "name": "stdout",
     "output_type": "stream",
     "text": [
      "('Matrix W:\\n', array([[ 0.2049, -0.009 ],\n",
      "       [ 0.3871, -0.589 ],\n",
      "       [-0.5465,  0.2543],\n",
      "       [-0.7138, -0.767 ]]))\n"
     ]
    }
   ],
   "source": [
    "W = np.hstack((eig_pairs[0][1].reshape(4,1), eig_pairs[1][1].reshape(4,1)))\n",
    "print('Matrix W:\\n', W.real)"
   ]
  },
  {
   "cell_type": "markdown",
   "metadata": {},
   "source": [
    "### Etapa 5: Transformando as amostras no novo subespaço\n",
    "\n",
    "Na última etapa, usamos a matriz 4 × 2 dimensional $ W $ que acabamos de calcular para transformar nossas amostras no novo subespaço através da equação\n",
    "\n",
    "$$ Y=X×W $$\n",
    "\n",
    "(onde $ X $ é uma matriz $ n × d $ representando as n amostras, e $ Y $ são as amostras transformadas $ n × k $ no novo subespaço)."
   ]
  },
  {
   "cell_type": "code",
   "execution_count": 19,
   "metadata": {},
   "outputs": [],
   "source": [
    "X_lda = X.dot(W)\n",
    "assert X_lda.shape == (150,2), \"The matrix is not 150x2 dimensional.\""
   ]
  },
  {
   "cell_type": "code",
   "execution_count": 20,
   "metadata": {},
   "outputs": [
    {
     "data": {
      "image/png": "[encoded data removed]",
      "text/plain": [
       "<Figure size 432x288 with 1 Axes>"
      ]
     },
     "metadata": {
      "needs_background": "light"
     },
     "output_type": "display_data"
    }
   ],
   "source": [
    "from matplotlib import pyplot as plt\n",
    "\n",
    "def plot_step_lda():\n",
    "\n",
    "    ax = plt.subplot(111)\n",
    "    for label,marker,color in zip(\n",
    "        range(1,4),('^', 's', 'o'),('blue', 'red', 'green')):\n",
    "\n",
    "        plt.scatter(x=X_lda[:,0].real[y == label],\n",
    "                y=X_lda[:,1].real[y == label],\n",
    "                marker=marker,\n",
    "                color=color,\n",
    "                alpha=0.5,\n",
    "                label=label_dict[label]\n",
    "                )\n",
    "\n",
    "    plt.xlabel('LD1')\n",
    "    plt.ylabel('LD2')\n",
    "\n",
    "    leg = plt.legend(loc='upper right', fancybox=True)\n",
    "    leg.get_frame().set_alpha(0.5)\n",
    "    plt.title('LDA: Iris projection onto the first 2 linear discriminants')\n",
    "\n",
    "    # hide axis ticks\n",
    "    plt.tick_params(axis=\"both\", which=\"both\", bottom=\"off\", top=\"off\",  \n",
    "            labelbottom=\"on\", left=\"off\", right=\"off\", labelleft=\"on\")\n",
    "\n",
    "    # remove axis spines\n",
    "    ax.spines[\"top\"].set_visible(False)  \n",
    "    ax.spines[\"right\"].set_visible(False)\n",
    "    ax.spines[\"bottom\"].set_visible(False)\n",
    "    ax.spines[\"left\"].set_visible(False)    \n",
    "\n",
    "    plt.grid()\n",
    "    plt.tight_layout\n",
    "    plt.show()\n",
    "\n",
    "plot_step_lda()"
   ]
  },
  {
   "cell_type": "markdown",
   "metadata": {},
   "source": [
    "O gráfico de dispersão acima representa nosso novo subespaço de variáveis que nós construímos via LDA. Podemos ver que o primeiro discriminante linear \"LD1\" separa as classes muito bem. No entanto, o segundo discriminante, \"LD2\", não adiciona muita informação valiosa, que já concluímos quando analisamos os autovalores classificados no passo 4."
   ]
  },
  {
   "cell_type": "markdown",
   "metadata": {},
   "source": [
    "## LDA via scikit-learn\n",
    "\n",
    "Agora, depois de termos visto como uma Análise Linear do Discriminante funciona usando uma abordagem passo-a-passo, há também uma maneira mais conveniente de obter o mesmo através da classe LDA implementada na biblioteca de aprendizado de máquina scikit-learn."
   ]
  },
  {
   "cell_type": "code",
   "execution_count": 21,
   "metadata": {},
   "outputs": [],
   "source": [
    "from sklearn.discriminant_analysis import LinearDiscriminantAnalysis as LDA\n",
    "\n",
    "sklearn_lda = LDA(n_components=2)\n",
    "X_lda_sklearn = sklearn_lda.fit_transform(X, y)"
   ]
  },
  {
   "cell_type": "code",
   "execution_count": 22,
   "metadata": {},
   "outputs": [],
   "source": [
    "def plot_scikit_lda(X, title):\n",
    "\n",
    "    ax = plt.subplot(111)\n",
    "    for label,marker,color in zip(\n",
    "        range(1,4),('^', 's', 'o'),('blue', 'red', 'green')):\n",
    "\n",
    "        plt.scatter(x=X[:,0][y == label],\n",
    "                    y=X[:,1][y == label] * -1, # flip the figure\n",
    "                    marker=marker,\n",
    "                    color=color,\n",
    "                    alpha=0.5,\n",
    "                    label=label_dict[label])\n",
    "\n",
    "    plt.xlabel('LD1')\n",
    "    plt.ylabel('LD2')\n",
    "\n",
    "    leg = plt.legend(loc='upper right', fancybox=True)\n",
    "    leg.get_frame().set_alpha(0.5)\n",
    "    plt.title(title)\n",
    "\n",
    "    # hide axis ticks\n",
    "    plt.tick_params(axis=\"both\", which=\"both\", bottom=\"off\", top=\"off\",  \n",
    "            labelbottom=\"on\", left=\"off\", right=\"off\", labelleft=\"on\")\n",
    "\n",
    "    # remove axis spines\n",
    "    ax.spines[\"top\"].set_visible(False)  \n",
    "    ax.spines[\"right\"].set_visible(False)\n",
    "    ax.spines[\"bottom\"].set_visible(False)\n",
    "    ax.spines[\"left\"].set_visible(False)    \n",
    "\n",
    "    plt.grid()\n",
    "    plt.tight_layout\n",
    "    plt.show()"
   ]
  },
  {
   "cell_type": "code",
   "execution_count": 23,
   "metadata": {},
   "outputs": [
    {
     "data": {
      "image/png": "[encoded data removed]",
      "text/plain": [
       "<Figure size 432x288 with 1 Axes>"
      ]
     },
     "metadata": {
      "needs_background": "light"
     },
     "output_type": "display_data"
    },
    {
     "data": {
      "image/png": "[encoded data removed]",
      "text/plain": [
       "<Figure size 432x288 with 1 Axes>"
      ]
     },
     "metadata": {
      "needs_background": "light"
     },
     "output_type": "display_data"
    }
   ],
   "source": [
    "plot_step_lda()\n",
    "plot_scikit_lda(X_lda_sklearn, title='Default LDA via scikit-learn')"
   ]
  },
  {
   "cell_type": "code",
   "execution_count": null,
   "metadata": {},
   "outputs": [],
   "source": []
  }
 ],
 "metadata": {
  "kernelspec": {
   "display_name": "Python 2",
   "language": "python",
   "name": "python2"
  },
  "language_info": {
   "codemirror_mode": {
    "name": "ipython",
    "version": 2
   },
   "file_extension": ".py",
   "mimetype": "text/x-python",
   "name": "python",
   "nbconvert_exporter": "python",
   "pygments_lexer": "ipython2",
   "version": "2.7.15"
  }
 },
 "nbformat": 4,
 "nbformat_minor": 2
}
